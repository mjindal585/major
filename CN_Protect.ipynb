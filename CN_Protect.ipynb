{
  "nbformat": 4,
  "nbformat_minor": 0,
  "metadata": {
    "colab": {
      "name": "CN-Protect.ipynb",
      "provenance": [],
      "collapsed_sections": []
    },
    "kernelspec": {
      "name": "python3",
      "display_name": "Python 3"
    }
  },
  "cells": [
    {
      "cell_type": "code",
      "metadata": {
        "id": "osc2AMszGvpR",
        "colab_type": "code",
        "outputId": "fc46e5cb-dd82-486f-c998-e43cdd912110",
        "colab": {
          "base_uri": "https://localhost:8080/",
          "height": 538
        }
      },
      "source": [
        "!pip install cn-protect\n"
      ],
      "execution_count": 1,
      "outputs": [
        {
          "output_type": "stream",
          "text": [
            "Collecting cn-protect\n",
            "\u001b[?25l  Downloading https://files.pythonhosted.org/packages/06/bf/931056891d0bc98ca0b5dd7991b47d670d154770dcae90c73330226ed52f/cn-protect-0.9.4.tar.gz (36.8MB)\n",
            "\u001b[K     |████████████████████████████████| 36.8MB 116kB/s \n",
            "\u001b[?25hRequirement already satisfied: pandas>=0.24 in /usr/local/lib/python3.6/dist-packages (from cn-protect) (0.25.3)\n",
            "Collecting validators\n",
            "  Downloading https://files.pythonhosted.org/packages/4d/56/9b48c918ef118ea12b90f227c4498ed4703b418bdd8fb49479dfcbeae4ef/validators-0.14.2.tar.gz\n",
            "Collecting pycountry\n",
            "\u001b[?25l  Downloading https://files.pythonhosted.org/packages/16/b6/154fe93072051d8ce7bf197690957b6d0ac9a21d51c9a1d05bd7c6fdb16f/pycountry-19.8.18.tar.gz (10.0MB)\n",
            "\u001b[K     |████████████████████████████████| 10.0MB 41.3MB/s \n",
            "\u001b[?25hCollecting pyjnius>=1.2.0\n",
            "\u001b[?25l  Downloading https://files.pythonhosted.org/packages/e8/4f/e3d9f4bb53f7f1854f81a279c274c4ad8537e4d71117258515158403bc10/pyjnius-1.2.1-cp36-cp36m-manylinux2010_x86_64.whl (1.1MB)\n",
            "\u001b[K     |████████████████████████████████| 1.1MB 26.8MB/s \n",
            "\u001b[?25hRequirement already satisfied: numpy>=1.13.3 in /usr/local/lib/python3.6/dist-packages (from pandas>=0.24->cn-protect) (1.17.5)\n",
            "Requirement already satisfied: python-dateutil>=2.6.1 in /usr/local/lib/python3.6/dist-packages (from pandas>=0.24->cn-protect) (2.6.1)\n",
            "Requirement already satisfied: pytz>=2017.2 in /usr/local/lib/python3.6/dist-packages (from pandas>=0.24->cn-protect) (2018.9)\n",
            "Requirement already satisfied: six>=1.4.0 in /usr/local/lib/python3.6/dist-packages (from validators->cn-protect) (1.12.0)\n",
            "Requirement already satisfied: decorator>=3.4.0 in /usr/local/lib/python3.6/dist-packages (from validators->cn-protect) (4.4.1)\n",
            "Requirement already satisfied: cython in /usr/local/lib/python3.6/dist-packages (from pyjnius>=1.2.0->cn-protect) (0.29.15)\n",
            "Building wheels for collected packages: cn-protect, validators, pycountry\n",
            "  Building wheel for cn-protect (setup.py) ... \u001b[?25l\u001b[?25hdone\n",
            "  Created wheel for cn-protect: filename=cn_protect-0.9.4-cp36-none-any.whl size=36821891 sha256=673fea0b7b907f1d625f4916a4451aa028251a5318e7368fdaeadbee3e02e759\n",
            "  Stored in directory: /root/.cache/pip/wheels/f6/b3/26/a9bceb811be70162e4eb58ce91d7d026f9576221b5c4ce5a0c\n",
            "  Building wheel for validators (setup.py) ... \u001b[?25l\u001b[?25hdone\n",
            "  Created wheel for validators: filename=validators-0.14.2-cp36-none-any.whl size=17249 sha256=ed029a53947d271a2a5e30ce49035dd8cd56fd386165a356cd3957cf535f253e\n",
            "  Stored in directory: /root/.cache/pip/wheels/46/e4/bb/0c8fc33769e30e0049771579b608e6a0d4a00db8a1a29e7ce7\n",
            "  Building wheel for pycountry (setup.py) ... \u001b[?25l\u001b[?25hdone\n",
            "  Created wheel for pycountry: filename=pycountry-19.8.18-py2.py3-none-any.whl size=10627361 sha256=98ead4675e8dbb52c2cd6a3f81c000c0e3f1bffea02a56a43bd471fac86ed521\n",
            "  Stored in directory: /root/.cache/pip/wheels/a2/98/bf/f0fa1c6bf8cf2cbdb750d583f84be51c2cd8272460b8b36bd3\n",
            "Successfully built cn-protect validators pycountry\n",
            "Installing collected packages: validators, pycountry, pyjnius, cn-protect\n",
            "Successfully installed cn-protect-0.9.4 pycountry-19.8.18 pyjnius-1.2.1 validators-0.14.2\n"
          ],
          "name": "stdout"
        }
      ]
    },
    {
      "cell_type": "code",
      "metadata": {
        "id": "8aiN4FDbGzYp",
        "colab_type": "code",
        "outputId": "e72940d2-36d6-40b4-a2c8-c6373ad6e5b3",
        "colab": {
          "base_uri": "https://localhost:8080/",
          "height": 67
        }
      },
      "source": [
        "#importing os to set environment variable\n",
        "import os\n",
        "def install_java():\n",
        "  #install openjdk\n",
        "  !apt-get install -y openjdk-11-jdk-headless -qq > /dev/null\n",
        "\n",
        "  #set environment variable\n",
        "  os.environ[\"JAVA_HOME\"] = \"/usr/lib/jvm/java-11-openjdk-amd64\"\n",
        "\n",
        "  #check java version\n",
        "  !java -version\n",
        "  \n",
        "install_java()\n",
        "from cn.protect import Protect\n",
        "import pandas as pd\n",
        "import numpy as np\n",
        "import matplotlib.pyplot as plt"
      ],
      "execution_count": 2,
      "outputs": [
        {
          "output_type": "stream",
          "text": [
            "openjdk version \"11.0.6\" 2020-01-14\n",
            "OpenJDK Runtime Environment (build 11.0.6+10-post-Ubuntu-1ubuntu118.04.1)\n",
            "OpenJDK 64-Bit Server VM (build 11.0.6+10-post-Ubuntu-1ubuntu118.04.1, mixed mode, sharing)\n"
          ],
          "name": "stdout"
        }
      ]
    },
    {
      "cell_type": "code",
      "metadata": {
        "id": "f_F2C4MYG9ZB",
        "colab_type": "code",
        "colab": {}
      },
      "source": [
        "from cn.protect.privacy import KAnonymity"
      ],
      "execution_count": 0,
      "outputs": []
    },
    {
      "cell_type": "code",
      "metadata": {
        "id": "nTWh1yCdHcWS",
        "colab_type": "code",
        "outputId": "9b89de9e-6c34-48d2-c68d-d11f7b835579",
        "colab": {
          "base_uri": "https://localhost:8080/",
          "height": 121
        }
      },
      "source": [
        "from google.colab import drive\n",
        "drive.mount('/content/gdrive')\n"
      ],
      "execution_count": 4,
      "outputs": [
        {
          "output_type": "stream",
          "text": [
            "Go to this URL in a browser: https://accounts.google.com/o/oauth2/auth?client_id=947318989803-6bn6qk8qdgf4n4g3pfee6491hc0brc4i.apps.googleusercontent.com&redirect_uri=urn%3aietf%3awg%3aoauth%3a2.0%3aoob&response_type=code&scope=email%20https%3a%2f%2fwww.googleapis.com%2fauth%2fdocs.test%20https%3a%2f%2fwww.googleapis.com%2fauth%2fdrive%20https%3a%2f%2fwww.googleapis.com%2fauth%2fdrive.photos.readonly%20https%3a%2f%2fwww.googleapis.com%2fauth%2fpeopleapi.readonly\n",
            "\n",
            "Enter your authorization code:\n",
            "··········\n",
            "Mounted at /content/gdrive\n"
          ],
          "name": "stdout"
        }
      ]
    },
    {
      "cell_type": "code",
      "metadata": {
        "id": "KYrhKv6sH204",
        "colab_type": "code",
        "colab": {}
      },
      "source": [
        "root_path = \"/content/gdrive/My Drive\""
      ],
      "execution_count": 0,
      "outputs": []
    },
    {
      "cell_type": "code",
      "metadata": {
        "id": "Rfs69teAJgeF",
        "colab_type": "code",
        "colab": {}
      },
      "source": [
        "df=pd.read_csv(root_path+'/data_final.csv')"
      ],
      "execution_count": 0,
      "outputs": []
    },
    {
      "cell_type": "code",
      "metadata": {
        "id": "NjiPtt7kJn_k",
        "colab_type": "code",
        "outputId": "46b9c04e-4e8c-49fb-deda-56ef26738c12",
        "colab": {
          "base_uri": "https://localhost:8080/",
          "height": 366
        }
      },
      "source": [
        "df.head()"
      ],
      "execution_count": 7,
      "outputs": [
        {
          "output_type": "execute_result",
          "data": {
            "text/html": [
              "<div>\n",
              "<style scoped>\n",
              "    .dataframe tbody tr th:only-of-type {\n",
              "        vertical-align: middle;\n",
              "    }\n",
              "\n",
              "    .dataframe tbody tr th {\n",
              "        vertical-align: top;\n",
              "    }\n",
              "\n",
              "    .dataframe thead th {\n",
              "        text-align: right;\n",
              "    }\n",
              "</style>\n",
              "<table border=\"1\" class=\"dataframe\">\n",
              "  <thead>\n",
              "    <tr style=\"text-align: right;\">\n",
              "      <th></th>\n",
              "      <th>ID</th>\n",
              "      <th>age</th>\n",
              "      <th>gender</th>\n",
              "      <th>native-country</th>\n",
              "      <th>race</th>\n",
              "      <th>marital-status</th>\n",
              "      <th>workclass</th>\n",
              "      <th>occupation</th>\n",
              "      <th>income</th>\n",
              "      <th>People_Family</th>\n",
              "      <th>education</th>\n",
              "      <th>GlycoHemoglobin</th>\n",
              "      <th>ArmCircum</th>\n",
              "      <th>SaggitalAbdominal</th>\n",
              "      <th>GripStrength</th>\n",
              "      <th>Taking_Insulin</th>\n",
              "      <th>Taking_Oral_Agents</th>\n",
              "      <th>Eyes_Affected</th>\n",
              "      <th>Recent_BP</th>\n",
              "      <th>Diabetes</th>\n",
              "    </tr>\n",
              "  </thead>\n",
              "  <tbody>\n",
              "    <tr>\n",
              "      <th>0</th>\n",
              "      <td>73557</td>\n",
              "      <td>25</td>\n",
              "      <td>Male</td>\n",
              "      <td>United-States</td>\n",
              "      <td>Black</td>\n",
              "      <td>Never-married</td>\n",
              "      <td>Private</td>\n",
              "      <td>Machine-op-inspct</td>\n",
              "      <td>&lt;=50K</td>\n",
              "      <td>3</td>\n",
              "      <td>11th</td>\n",
              "      <td>13.9</td>\n",
              "      <td>35.3</td>\n",
              "      <td>20.6</td>\n",
              "      <td>55.2</td>\n",
              "      <td>1</td>\n",
              "      <td>1</td>\n",
              "      <td>1</td>\n",
              "      <td>120.0</td>\n",
              "      <td>2</td>\n",
              "    </tr>\n",
              "    <tr>\n",
              "      <th>1</th>\n",
              "      <td>73558</td>\n",
              "      <td>38</td>\n",
              "      <td>Male</td>\n",
              "      <td>United-States</td>\n",
              "      <td>White</td>\n",
              "      <td>Married-civ-spouse</td>\n",
              "      <td>Private</td>\n",
              "      <td>Farming-fishing</td>\n",
              "      <td>&lt;=50K</td>\n",
              "      <td>4</td>\n",
              "      <td>HS-grad</td>\n",
              "      <td>9.1</td>\n",
              "      <td>34.7</td>\n",
              "      <td>24.4</td>\n",
              "      <td>61.5</td>\n",
              "      <td>1</td>\n",
              "      <td>1</td>\n",
              "      <td>1</td>\n",
              "      <td>128.0</td>\n",
              "      <td>2</td>\n",
              "    </tr>\n",
              "    <tr>\n",
              "      <th>2</th>\n",
              "      <td>73559</td>\n",
              "      <td>28</td>\n",
              "      <td>Male</td>\n",
              "      <td>United-States</td>\n",
              "      <td>White</td>\n",
              "      <td>Married-civ-spouse</td>\n",
              "      <td>Local-gov</td>\n",
              "      <td>Protective-serv</td>\n",
              "      <td>&gt;50K</td>\n",
              "      <td>2</td>\n",
              "      <td>Assoc-acdm</td>\n",
              "      <td>8.9</td>\n",
              "      <td>33.5</td>\n",
              "      <td>25.6</td>\n",
              "      <td>91.0</td>\n",
              "      <td>1</td>\n",
              "      <td>1</td>\n",
              "      <td>1</td>\n",
              "      <td>136.0</td>\n",
              "      <td>2</td>\n",
              "    </tr>\n",
              "    <tr>\n",
              "      <th>3</th>\n",
              "      <td>73560</td>\n",
              "      <td>44</td>\n",
              "      <td>Male</td>\n",
              "      <td>United-States</td>\n",
              "      <td>Black</td>\n",
              "      <td>Married-civ-spouse</td>\n",
              "      <td>Private</td>\n",
              "      <td>Machine-op-inspct</td>\n",
              "      <td>&gt;50K</td>\n",
              "      <td>4</td>\n",
              "      <td>Some-college</td>\n",
              "      <td>5.4</td>\n",
              "      <td>21.0</td>\n",
              "      <td>14.9</td>\n",
              "      <td>32.2</td>\n",
              "      <td>1</td>\n",
              "      <td>0</td>\n",
              "      <td>0</td>\n",
              "      <td>136.0</td>\n",
              "      <td>0</td>\n",
              "    </tr>\n",
              "    <tr>\n",
              "      <th>4</th>\n",
              "      <td>73561</td>\n",
              "      <td>18</td>\n",
              "      <td>Female</td>\n",
              "      <td>United-States</td>\n",
              "      <td>White</td>\n",
              "      <td>Never-married</td>\n",
              "      <td>?</td>\n",
              "      <td>?</td>\n",
              "      <td>&lt;=50K</td>\n",
              "      <td>2</td>\n",
              "      <td>Some-college</td>\n",
              "      <td>4.9</td>\n",
              "      <td>25.2</td>\n",
              "      <td>20.7</td>\n",
              "      <td>30.9</td>\n",
              "      <td>1</td>\n",
              "      <td>0</td>\n",
              "      <td>0</td>\n",
              "      <td>136.0</td>\n",
              "      <td>0</td>\n",
              "    </tr>\n",
              "  </tbody>\n",
              "</table>\n",
              "</div>"
            ],
            "text/plain": [
              "      ID  age  gender  ... Eyes_Affected Recent_BP Diabetes\n",
              "0  73557   25    Male  ...             1     120.0        2\n",
              "1  73558   38    Male  ...             1     128.0        2\n",
              "2  73559   28    Male  ...             1     136.0        2\n",
              "3  73560   44    Male  ...             0     136.0        0\n",
              "4  73561   18  Female  ...             0     136.0        0\n",
              "\n",
              "[5 rows x 20 columns]"
            ]
          },
          "metadata": {
            "tags": []
          },
          "execution_count": 7
        }
      ]
    },
    {
      "cell_type": "code",
      "metadata": {
        "id": "2lve8Apmmkgo",
        "colab_type": "code",
        "outputId": "4bd2e1eb-bdb5-493e-89c9-85b7810028f6",
        "colab": {
          "base_uri": "https://localhost:8080/",
          "height": 690
        }
      },
      "source": [
        "df"
      ],
      "execution_count": 8,
      "outputs": [
        {
          "output_type": "execute_result",
          "data": {
            "text/html": [
              "<div>\n",
              "<style scoped>\n",
              "    .dataframe tbody tr th:only-of-type {\n",
              "        vertical-align: middle;\n",
              "    }\n",
              "\n",
              "    .dataframe tbody tr th {\n",
              "        vertical-align: top;\n",
              "    }\n",
              "\n",
              "    .dataframe thead th {\n",
              "        text-align: right;\n",
              "    }\n",
              "</style>\n",
              "<table border=\"1\" class=\"dataframe\">\n",
              "  <thead>\n",
              "    <tr style=\"text-align: right;\">\n",
              "      <th></th>\n",
              "      <th>ID</th>\n",
              "      <th>age</th>\n",
              "      <th>gender</th>\n",
              "      <th>native-country</th>\n",
              "      <th>race</th>\n",
              "      <th>marital-status</th>\n",
              "      <th>workclass</th>\n",
              "      <th>occupation</th>\n",
              "      <th>income</th>\n",
              "      <th>People_Family</th>\n",
              "      <th>education</th>\n",
              "      <th>GlycoHemoglobin</th>\n",
              "      <th>ArmCircum</th>\n",
              "      <th>SaggitalAbdominal</th>\n",
              "      <th>GripStrength</th>\n",
              "      <th>Taking_Insulin</th>\n",
              "      <th>Taking_Oral_Agents</th>\n",
              "      <th>Eyes_Affected</th>\n",
              "      <th>Recent_BP</th>\n",
              "      <th>Diabetes</th>\n",
              "    </tr>\n",
              "  </thead>\n",
              "  <tbody>\n",
              "    <tr>\n",
              "      <th>0</th>\n",
              "      <td>73557</td>\n",
              "      <td>25</td>\n",
              "      <td>Male</td>\n",
              "      <td>United-States</td>\n",
              "      <td>Black</td>\n",
              "      <td>Never-married</td>\n",
              "      <td>Private</td>\n",
              "      <td>Machine-op-inspct</td>\n",
              "      <td>&lt;=50K</td>\n",
              "      <td>3</td>\n",
              "      <td>11th</td>\n",
              "      <td>13.9</td>\n",
              "      <td>35.3</td>\n",
              "      <td>20.6</td>\n",
              "      <td>55.2</td>\n",
              "      <td>1</td>\n",
              "      <td>1</td>\n",
              "      <td>1</td>\n",
              "      <td>120.0</td>\n",
              "      <td>2</td>\n",
              "    </tr>\n",
              "    <tr>\n",
              "      <th>1</th>\n",
              "      <td>73558</td>\n",
              "      <td>38</td>\n",
              "      <td>Male</td>\n",
              "      <td>United-States</td>\n",
              "      <td>White</td>\n",
              "      <td>Married-civ-spouse</td>\n",
              "      <td>Private</td>\n",
              "      <td>Farming-fishing</td>\n",
              "      <td>&lt;=50K</td>\n",
              "      <td>4</td>\n",
              "      <td>HS-grad</td>\n",
              "      <td>9.1</td>\n",
              "      <td>34.7</td>\n",
              "      <td>24.4</td>\n",
              "      <td>61.5</td>\n",
              "      <td>1</td>\n",
              "      <td>1</td>\n",
              "      <td>1</td>\n",
              "      <td>128.0</td>\n",
              "      <td>2</td>\n",
              "    </tr>\n",
              "    <tr>\n",
              "      <th>2</th>\n",
              "      <td>73559</td>\n",
              "      <td>28</td>\n",
              "      <td>Male</td>\n",
              "      <td>United-States</td>\n",
              "      <td>White</td>\n",
              "      <td>Married-civ-spouse</td>\n",
              "      <td>Local-gov</td>\n",
              "      <td>Protective-serv</td>\n",
              "      <td>&gt;50K</td>\n",
              "      <td>2</td>\n",
              "      <td>Assoc-acdm</td>\n",
              "      <td>8.9</td>\n",
              "      <td>33.5</td>\n",
              "      <td>25.6</td>\n",
              "      <td>91.0</td>\n",
              "      <td>1</td>\n",
              "      <td>1</td>\n",
              "      <td>1</td>\n",
              "      <td>136.0</td>\n",
              "      <td>2</td>\n",
              "    </tr>\n",
              "    <tr>\n",
              "      <th>3</th>\n",
              "      <td>73560</td>\n",
              "      <td>44</td>\n",
              "      <td>Male</td>\n",
              "      <td>United-States</td>\n",
              "      <td>Black</td>\n",
              "      <td>Married-civ-spouse</td>\n",
              "      <td>Private</td>\n",
              "      <td>Machine-op-inspct</td>\n",
              "      <td>&gt;50K</td>\n",
              "      <td>4</td>\n",
              "      <td>Some-college</td>\n",
              "      <td>5.4</td>\n",
              "      <td>21.0</td>\n",
              "      <td>14.9</td>\n",
              "      <td>32.2</td>\n",
              "      <td>1</td>\n",
              "      <td>0</td>\n",
              "      <td>0</td>\n",
              "      <td>136.0</td>\n",
              "      <td>0</td>\n",
              "    </tr>\n",
              "    <tr>\n",
              "      <th>4</th>\n",
              "      <td>73561</td>\n",
              "      <td>18</td>\n",
              "      <td>Female</td>\n",
              "      <td>United-States</td>\n",
              "      <td>White</td>\n",
              "      <td>Never-married</td>\n",
              "      <td>?</td>\n",
              "      <td>?</td>\n",
              "      <td>&lt;=50K</td>\n",
              "      <td>2</td>\n",
              "      <td>Some-college</td>\n",
              "      <td>4.9</td>\n",
              "      <td>25.2</td>\n",
              "      <td>20.7</td>\n",
              "      <td>30.9</td>\n",
              "      <td>1</td>\n",
              "      <td>0</td>\n",
              "      <td>0</td>\n",
              "      <td>136.0</td>\n",
              "      <td>0</td>\n",
              "    </tr>\n",
              "    <tr>\n",
              "      <th>...</th>\n",
              "      <td>...</td>\n",
              "      <td>...</td>\n",
              "      <td>...</td>\n",
              "      <td>...</td>\n",
              "      <td>...</td>\n",
              "      <td>...</td>\n",
              "      <td>...</td>\n",
              "      <td>...</td>\n",
              "      <td>...</td>\n",
              "      <td>...</td>\n",
              "      <td>...</td>\n",
              "      <td>...</td>\n",
              "      <td>...</td>\n",
              "      <td>...</td>\n",
              "      <td>...</td>\n",
              "      <td>...</td>\n",
              "      <td>...</td>\n",
              "      <td>...</td>\n",
              "      <td>...</td>\n",
              "      <td>...</td>\n",
              "    </tr>\n",
              "    <tr>\n",
              "      <th>9808</th>\n",
              "      <td>83727</td>\n",
              "      <td>66</td>\n",
              "      <td>Female</td>\n",
              "      <td>United-States</td>\n",
              "      <td>White</td>\n",
              "      <td>Married-spouse-absent</td>\n",
              "      <td>Private</td>\n",
              "      <td>Other-service</td>\n",
              "      <td>&lt;=50K</td>\n",
              "      <td>7</td>\n",
              "      <td>7th-8th</td>\n",
              "      <td>5.0</td>\n",
              "      <td>29.9</td>\n",
              "      <td>19.1</td>\n",
              "      <td>70.1</td>\n",
              "      <td>1</td>\n",
              "      <td>0</td>\n",
              "      <td>0</td>\n",
              "      <td>120.0</td>\n",
              "      <td>0</td>\n",
              "    </tr>\n",
              "    <tr>\n",
              "      <th>9809</th>\n",
              "      <td>83728</td>\n",
              "      <td>47</td>\n",
              "      <td>Female</td>\n",
              "      <td>United-States</td>\n",
              "      <td>White</td>\n",
              "      <td>Widowed</td>\n",
              "      <td>Private</td>\n",
              "      <td>Other-service</td>\n",
              "      <td>&lt;=50K</td>\n",
              "      <td>6</td>\n",
              "      <td>HS-grad</td>\n",
              "      <td>5.4</td>\n",
              "      <td>14.7</td>\n",
              "      <td>20.7</td>\n",
              "      <td>60.3</td>\n",
              "      <td>0</td>\n",
              "      <td>0</td>\n",
              "      <td>0</td>\n",
              "      <td>120.0</td>\n",
              "      <td>0</td>\n",
              "    </tr>\n",
              "    <tr>\n",
              "      <th>9810</th>\n",
              "      <td>83729</td>\n",
              "      <td>57</td>\n",
              "      <td>Male</td>\n",
              "      <td>United-States</td>\n",
              "      <td>White</td>\n",
              "      <td>Married-civ-spouse</td>\n",
              "      <td>Local-gov</td>\n",
              "      <td>Other-service</td>\n",
              "      <td>&lt;=50K</td>\n",
              "      <td>2</td>\n",
              "      <td>Assoc-acdm</td>\n",
              "      <td>5.3</td>\n",
              "      <td>37.0</td>\n",
              "      <td>24.3</td>\n",
              "      <td>46.6</td>\n",
              "      <td>1</td>\n",
              "      <td>0</td>\n",
              "      <td>0</td>\n",
              "      <td>120.0</td>\n",
              "      <td>0</td>\n",
              "    </tr>\n",
              "    <tr>\n",
              "      <th>9811</th>\n",
              "      <td>83730</td>\n",
              "      <td>30</td>\n",
              "      <td>Female</td>\n",
              "      <td>Greece</td>\n",
              "      <td>White</td>\n",
              "      <td>Never-married</td>\n",
              "      <td>Private</td>\n",
              "      <td>Sales</td>\n",
              "      <td>&lt;=50K</td>\n",
              "      <td>4</td>\n",
              "      <td>Bachelors</td>\n",
              "      <td>5.4</td>\n",
              "      <td>19.0</td>\n",
              "      <td>20.7</td>\n",
              "      <td>20.8</td>\n",
              "      <td>1</td>\n",
              "      <td>1</td>\n",
              "      <td>0</td>\n",
              "      <td>120.0</td>\n",
              "      <td>0</td>\n",
              "    </tr>\n",
              "    <tr>\n",
              "      <th>9812</th>\n",
              "      <td>83731</td>\n",
              "      <td>26</td>\n",
              "      <td>Male</td>\n",
              "      <td>United-States</td>\n",
              "      <td>White</td>\n",
              "      <td>Divorced</td>\n",
              "      <td>Private</td>\n",
              "      <td>Craft-repair</td>\n",
              "      <td>&lt;=50K</td>\n",
              "      <td>3</td>\n",
              "      <td>Some-college</td>\n",
              "      <td>5.4</td>\n",
              "      <td>25.0</td>\n",
              "      <td>17.5</td>\n",
              "      <td>36.0</td>\n",
              "      <td>1</td>\n",
              "      <td>0</td>\n",
              "      <td>0</td>\n",
              "      <td>120.0</td>\n",
              "      <td>0</td>\n",
              "    </tr>\n",
              "  </tbody>\n",
              "</table>\n",
              "<p>9813 rows × 20 columns</p>\n",
              "</div>"
            ],
            "text/plain": [
              "         ID  age  gender  ... Eyes_Affected Recent_BP Diabetes\n",
              "0     73557   25    Male  ...             1     120.0        2\n",
              "1     73558   38    Male  ...             1     128.0        2\n",
              "2     73559   28    Male  ...             1     136.0        2\n",
              "3     73560   44    Male  ...             0     136.0        0\n",
              "4     73561   18  Female  ...             0     136.0        0\n",
              "...     ...  ...     ...  ...           ...       ...      ...\n",
              "9808  83727   66  Female  ...             0     120.0        0\n",
              "9809  83728   47  Female  ...             0     120.0        0\n",
              "9810  83729   57    Male  ...             0     120.0        0\n",
              "9811  83730   30  Female  ...             0     120.0        0\n",
              "9812  83731   26    Male  ...             0     120.0        0\n",
              "\n",
              "[9813 rows x 20 columns]"
            ]
          },
          "metadata": {
            "tags": []
          },
          "execution_count": 8
        }
      ]
    },
    {
      "cell_type": "code",
      "metadata": {
        "id": "hjHQKG19Jpv-",
        "colab_type": "code",
        "colab": {}
      },
      "source": [
        "from cn.protect.privacy import KAnonymity\n",
        "from cn.protect.hierarchy import DataHierarchy , OrderHierarchy ,IntervalHierarchy\n",
        "from cn.protect.quality import Loss"
      ],
      "execution_count": 0,
      "outputs": []
    },
    {
      "cell_type": "code",
      "metadata": {
        "id": "CLq_DrUzKJqn",
        "colab_type": "code",
        "colab": {}
      },
      "source": [
        "prot = Protect(df , KAnonymity(5))"
      ],
      "execution_count": 0,
      "outputs": []
    },
    {
      "cell_type": "code",
      "metadata": {
        "id": "4KHgm9e2KoPY",
        "colab_type": "code",
        "colab": {}
      },
      "source": [
        "prot.suppression = .3"
      ],
      "execution_count": 0,
      "outputs": []
    },
    {
      "cell_type": "code",
      "metadata": {
        "id": "lEw7ushPniOA",
        "colab_type": "code",
        "outputId": "de95a7db-d055-47b5-bb90-fd781ec0a4ce",
        "colab": {
          "base_uri": "https://localhost:8080/",
          "height": 118
        }
      },
      "source": [
        "df.columns"
      ],
      "execution_count": 25,
      "outputs": [
        {
          "output_type": "execute_result",
          "data": {
            "text/plain": [
              "Index(['ID', 'age', 'gender', 'native-country', 'race', 'marital-status',\n",
              "       'workclass', 'occupation', 'income', 'People_Family', 'education',\n",
              "       'GlycoHemoglobin', 'ArmCircum', 'SaggitalAbdominal', 'GripStrength',\n",
              "       'Taking_Insulin', 'Taking_Oral_Agents', 'Eyes_Affected', 'Recent_BP',\n",
              "       'Diabetes'],\n",
              "      dtype='object')"
            ]
          },
          "metadata": {
            "tags": []
          },
          "execution_count": 25
        }
      ]
    },
    {
      "cell_type": "code",
      "metadata": {
        "id": "NMbwRQ6rKsG1",
        "colab_type": "code",
        "outputId": "6bd6efac-742f-4c36-f403-dc0bf95b9087",
        "colab": {
          "base_uri": "https://localhost:8080/",
          "height": 370
        }
      },
      "source": [
        "prot.itypes.ID = 'identifying'\n",
        "cols = ['age', 'gender', 'native-country', 'race', 'marital-status',\n",
        "       'workclass', 'occupation', 'income', 'People_Family', 'education',\n",
        "       'GlycoHemoglobin', 'ArmCircum', 'SaggitalAbdominal', 'GripStrength',\n",
        "       'Taking_Insulin', 'Taking_Oral_Agents', 'Eyes_Affected', 'Recent_BP',\n",
        "       'Diabetes']\n",
        "for col in cols:\n",
        "  prot.itypes[col] = 'quasi' \n",
        "coli = ['Taking_Insulin', 'Taking_Oral_Agents', 'Eyes_Affected']\n",
        "\n",
        "for i in coli:\n",
        "  prot.itypes[i]='insensitive'\n",
        "prot.itypes.Diabetes = 'insensitive'\n",
        "prot.itypes"
      ],
      "execution_count": 26,
      "outputs": [
        {
          "output_type": "execute_result",
          "data": {
            "text/plain": [
              "ID                    IDENTIFYING\n",
              "age                         QUASI\n",
              "gender                      QUASI\n",
              "native-country              QUASI\n",
              "race                        QUASI\n",
              "marital-status              QUASI\n",
              "workclass                   QUASI\n",
              "occupation                  QUASI\n",
              "income                      QUASI\n",
              "People_Family               QUASI\n",
              "education                   QUASI\n",
              "GlycoHemoglobin             QUASI\n",
              "ArmCircum                   QUASI\n",
              "SaggitalAbdominal           QUASI\n",
              "GripStrength                QUASI\n",
              "Taking_Insulin        INSENSITIVE\n",
              "Taking_Oral_Agents    INSENSITIVE\n",
              "Eyes_Affected         INSENSITIVE\n",
              "Recent_BP                   QUASI\n",
              "Diabetes              INSENSITIVE\n",
              "dtype: object"
            ]
          },
          "metadata": {
            "tags": []
          },
          "execution_count": 26
        }
      ]
    },
    {
      "cell_type": "code",
      "metadata": {
        "id": "EYyeCMXKTS9n",
        "colab_type": "code",
        "outputId": "b7fddf4c-8d4c-461e-aad7-f879b1ddfaa7",
        "colab": {
          "base_uri": "https://localhost:8080/",
          "height": 304
        }
      },
      "source": [
        "df.describe()"
      ],
      "execution_count": 27,
      "outputs": [
        {
          "output_type": "execute_result",
          "data": {
            "text/html": [
              "<div>\n",
              "<style scoped>\n",
              "    .dataframe tbody tr th:only-of-type {\n",
              "        vertical-align: middle;\n",
              "    }\n",
              "\n",
              "    .dataframe tbody tr th {\n",
              "        vertical-align: top;\n",
              "    }\n",
              "\n",
              "    .dataframe thead th {\n",
              "        text-align: right;\n",
              "    }\n",
              "</style>\n",
              "<table border=\"1\" class=\"dataframe\">\n",
              "  <thead>\n",
              "    <tr style=\"text-align: right;\">\n",
              "      <th></th>\n",
              "      <th>ID</th>\n",
              "      <th>age</th>\n",
              "      <th>People_Family</th>\n",
              "      <th>GlycoHemoglobin</th>\n",
              "      <th>ArmCircum</th>\n",
              "      <th>SaggitalAbdominal</th>\n",
              "      <th>GripStrength</th>\n",
              "      <th>Taking_Insulin</th>\n",
              "      <th>Taking_Oral_Agents</th>\n",
              "      <th>Eyes_Affected</th>\n",
              "      <th>Recent_BP</th>\n",
              "      <th>Diabetes</th>\n",
              "    </tr>\n",
              "  </thead>\n",
              "  <tbody>\n",
              "    <tr>\n",
              "      <th>count</th>\n",
              "      <td>9813.000000</td>\n",
              "      <td>9813.000000</td>\n",
              "      <td>9813.000000</td>\n",
              "      <td>9813.000000</td>\n",
              "      <td>9813.000000</td>\n",
              "      <td>9813.000000</td>\n",
              "      <td>9813.000000</td>\n",
              "      <td>9813.000000</td>\n",
              "      <td>9813.000000</td>\n",
              "      <td>9813.000000</td>\n",
              "      <td>9813.000000</td>\n",
              "      <td>9813.000000</td>\n",
              "    </tr>\n",
              "    <tr>\n",
              "      <th>mean</th>\n",
              "      <td>78644.559971</td>\n",
              "      <td>38.744523</td>\n",
              "      <td>3.730052</td>\n",
              "      <td>5.564201</td>\n",
              "      <td>28.528248</td>\n",
              "      <td>21.004545</td>\n",
              "      <td>62.455233</td>\n",
              "      <td>0.960053</td>\n",
              "      <td>0.117803</td>\n",
              "      <td>0.072149</td>\n",
              "      <td>182.933456</td>\n",
              "      <td>0.182921</td>\n",
              "    </tr>\n",
              "    <tr>\n",
              "      <th>std</th>\n",
              "      <td>2938.592266</td>\n",
              "      <td>13.861085</td>\n",
              "      <td>1.774712</td>\n",
              "      <td>0.834491</td>\n",
              "      <td>7.753571</td>\n",
              "      <td>4.261142</td>\n",
              "      <td>22.228196</td>\n",
              "      <td>0.195845</td>\n",
              "      <td>0.322391</td>\n",
              "      <td>0.258748</td>\n",
              "      <td>657.625877</td>\n",
              "      <td>0.522102</td>\n",
              "    </tr>\n",
              "    <tr>\n",
              "      <th>min</th>\n",
              "      <td>73557.000000</td>\n",
              "      <td>17.000000</td>\n",
              "      <td>1.000000</td>\n",
              "      <td>3.500000</td>\n",
              "      <td>10.400000</td>\n",
              "      <td>10.100000</td>\n",
              "      <td>8.000000</td>\n",
              "      <td>0.000000</td>\n",
              "      <td>0.000000</td>\n",
              "      <td>0.000000</td>\n",
              "      <td>88.000000</td>\n",
              "      <td>0.000000</td>\n",
              "    </tr>\n",
              "    <tr>\n",
              "      <th>25%</th>\n",
              "      <td>76092.000000</td>\n",
              "      <td>28.000000</td>\n",
              "      <td>2.000000</td>\n",
              "      <td>5.300000</td>\n",
              "      <td>23.200000</td>\n",
              "      <td>18.500000</td>\n",
              "      <td>50.300000</td>\n",
              "      <td>1.000000</td>\n",
              "      <td>0.000000</td>\n",
              "      <td>0.000000</td>\n",
              "      <td>120.000000</td>\n",
              "      <td>0.000000</td>\n",
              "    </tr>\n",
              "    <tr>\n",
              "      <th>50%</th>\n",
              "      <td>78643.000000</td>\n",
              "      <td>37.000000</td>\n",
              "      <td>4.000000</td>\n",
              "      <td>5.400000</td>\n",
              "      <td>29.300000</td>\n",
              "      <td>20.700000</td>\n",
              "      <td>60.300000</td>\n",
              "      <td>1.000000</td>\n",
              "      <td>0.000000</td>\n",
              "      <td>0.000000</td>\n",
              "      <td>120.000000</td>\n",
              "      <td>0.000000</td>\n",
              "    </tr>\n",
              "    <tr>\n",
              "      <th>75%</th>\n",
              "      <td>81191.000000</td>\n",
              "      <td>48.000000</td>\n",
              "      <td>5.000000</td>\n",
              "      <td>5.600000</td>\n",
              "      <td>33.800000</td>\n",
              "      <td>22.900000</td>\n",
              "      <td>73.300000</td>\n",
              "      <td>1.000000</td>\n",
              "      <td>0.000000</td>\n",
              "      <td>0.000000</td>\n",
              "      <td>130.000000</td>\n",
              "      <td>0.000000</td>\n",
              "    </tr>\n",
              "    <tr>\n",
              "      <th>max</th>\n",
              "      <td>83731.000000</td>\n",
              "      <td>90.000000</td>\n",
              "      <td>7.000000</td>\n",
              "      <td>17.500000</td>\n",
              "      <td>59.400000</td>\n",
              "      <td>40.100000</td>\n",
              "      <td>162.800000</td>\n",
              "      <td>1.000000</td>\n",
              "      <td>1.000000</td>\n",
              "      <td>1.000000</td>\n",
              "      <td>7777.000000</td>\n",
              "      <td>2.000000</td>\n",
              "    </tr>\n",
              "  </tbody>\n",
              "</table>\n",
              "</div>"
            ],
            "text/plain": [
              "                 ID          age  ...    Recent_BP     Diabetes\n",
              "count   9813.000000  9813.000000  ...  9813.000000  9813.000000\n",
              "mean   78644.559971    38.744523  ...   182.933456     0.182921\n",
              "std     2938.592266    13.861085  ...   657.625877     0.522102\n",
              "min    73557.000000    17.000000  ...    88.000000     0.000000\n",
              "25%    76092.000000    28.000000  ...   120.000000     0.000000\n",
              "50%    78643.000000    37.000000  ...   120.000000     0.000000\n",
              "75%    81191.000000    48.000000  ...   130.000000     0.000000\n",
              "max    83731.000000    90.000000  ...  7777.000000     2.000000\n",
              "\n",
              "[8 rows x 12 columns]"
            ]
          },
          "metadata": {
            "tags": []
          },
          "execution_count": 27
        }
      ]
    },
    {
      "cell_type": "code",
      "metadata": {
        "id": "arx-MycWCWNh",
        "colab_type": "code",
        "colab": {}
      },
      "source": [
        "prot.hierarchies.age = OrderHierarchy('interval',5,2,2)\n",
        "#prot.hierarchies.Recent_BP = OrderHierarchy('interval',3,2,2)"
      ],
      "execution_count": 0,
      "outputs": []
    },
    {
      "cell_type": "code",
      "metadata": {
        "id": "mkLFgkA5oYAr",
        "colab_type": "code",
        "outputId": "505e378b-e1e0-4640-e734-0e47a94e44a9",
        "colab": {
          "base_uri": "https://localhost:8080/",
          "height": 54
        }
      },
      "source": [
        "'''prot.hierarchies.Recent_BP = OrderHierarchy('interval', 3, 2, 2)\n",
        "prot.hierarchies.GlycoHemoglobin = OrderHierarchy('interval',2,2,2)\n",
        "prot.hierarchies.GripStrength = OrderHierarchy('interval',4,3,2)'''"
      ],
      "execution_count": 29,
      "outputs": [
        {
          "output_type": "execute_result",
          "data": {
            "text/plain": [
              "\"prot.hierarchies.Recent_BP = OrderHierarchy('interval', 3, 2, 2)\\nprot.hierarchies.GlycoHemoglobin = OrderHierarchy('interval',2,2,2)\\nprot.hierarchies.GripStrength = OrderHierarchy('interval',4,3,2)\""
            ]
          },
          "metadata": {
            "tags": []
          },
          "execution_count": 29
        }
      ]
    },
    {
      "cell_type": "code",
      "metadata": {
        "id": "GKiAwY5zoruP",
        "colab_type": "code",
        "colab": {}
      },
      "source": [
        "priv = prot.protect()"
      ],
      "execution_count": 0,
      "outputs": []
    },
    {
      "cell_type": "code",
      "metadata": {
        "id": "GV67-AvcowE0",
        "colab_type": "code",
        "outputId": "99e5c110-9fcf-4920-9a8d-66764330fd82",
        "colab": {
          "base_uri": "https://localhost:8080/",
          "height": 370
        }
      },
      "source": [
        "priv.nunique()"
      ],
      "execution_count": 31,
      "outputs": [
        {
          "output_type": "execute_result",
          "data": {
            "text/plain": [
              "ID                     1\n",
              "age                    5\n",
              "gender                 3\n",
              "native-country        10\n",
              "race                   6\n",
              "marital-status         7\n",
              "workclass              8\n",
              "occupation             1\n",
              "income                 3\n",
              "People_Family          1\n",
              "education              1\n",
              "GlycoHemoglobin        1\n",
              "ArmCircum              1\n",
              "SaggitalAbdominal      1\n",
              "GripStrength           1\n",
              "Taking_Insulin         2\n",
              "Taking_Oral_Agents     2\n",
              "Eyes_Affected          2\n",
              "Recent_BP              1\n",
              "Diabetes               3\n",
              "dtype: int64"
            ]
          },
          "metadata": {
            "tags": []
          },
          "execution_count": 31
        }
      ]
    },
    {
      "cell_type": "code",
      "metadata": {
        "id": "bVPAR5vrpusX",
        "colab_type": "code",
        "outputId": "6da086b5-4ee3-4e18-994a-12cdf63fb4d0",
        "colab": {
          "base_uri": "https://localhost:8080/",
          "height": 366
        }
      },
      "source": [
        "priv.head()"
      ],
      "execution_count": 36,
      "outputs": [
        {
          "output_type": "execute_result",
          "data": {
            "text/html": [
              "<div>\n",
              "<style scoped>\n",
              "    .dataframe tbody tr th:only-of-type {\n",
              "        vertical-align: middle;\n",
              "    }\n",
              "\n",
              "    .dataframe tbody tr th {\n",
              "        vertical-align: top;\n",
              "    }\n",
              "\n",
              "    .dataframe thead th {\n",
              "        text-align: right;\n",
              "    }\n",
              "</style>\n",
              "<table border=\"1\" class=\"dataframe\">\n",
              "  <thead>\n",
              "    <tr style=\"text-align: right;\">\n",
              "      <th></th>\n",
              "      <th>ID</th>\n",
              "      <th>age</th>\n",
              "      <th>gender</th>\n",
              "      <th>native-country</th>\n",
              "      <th>race</th>\n",
              "      <th>marital-status</th>\n",
              "      <th>workclass</th>\n",
              "      <th>occupation</th>\n",
              "      <th>income</th>\n",
              "      <th>People_Family</th>\n",
              "      <th>education</th>\n",
              "      <th>GlycoHemoglobin</th>\n",
              "      <th>ArmCircum</th>\n",
              "      <th>SaggitalAbdominal</th>\n",
              "      <th>GripStrength</th>\n",
              "      <th>Taking_Insulin</th>\n",
              "      <th>Taking_Oral_Agents</th>\n",
              "      <th>Eyes_Affected</th>\n",
              "      <th>Recent_BP</th>\n",
              "      <th>Diabetes</th>\n",
              "    </tr>\n",
              "  </thead>\n",
              "  <tbody>\n",
              "    <tr>\n",
              "      <th>0</th>\n",
              "      <td>*</td>\n",
              "      <td>[17, 36]</td>\n",
              "      <td>Male</td>\n",
              "      <td>United-States</td>\n",
              "      <td>Black</td>\n",
              "      <td>Never-married</td>\n",
              "      <td>Private</td>\n",
              "      <td>*</td>\n",
              "      <td>&lt;=50K</td>\n",
              "      <td>*</td>\n",
              "      <td>*</td>\n",
              "      <td>*</td>\n",
              "      <td>*</td>\n",
              "      <td>*</td>\n",
              "      <td>*</td>\n",
              "      <td>1</td>\n",
              "      <td>1</td>\n",
              "      <td>1</td>\n",
              "      <td>*</td>\n",
              "      <td>2</td>\n",
              "    </tr>\n",
              "    <tr>\n",
              "      <th>1</th>\n",
              "      <td>*</td>\n",
              "      <td>[37, 56]</td>\n",
              "      <td>Male</td>\n",
              "      <td>United-States</td>\n",
              "      <td>White</td>\n",
              "      <td>Married-civ-spouse</td>\n",
              "      <td>Private</td>\n",
              "      <td>*</td>\n",
              "      <td>&lt;=50K</td>\n",
              "      <td>*</td>\n",
              "      <td>*</td>\n",
              "      <td>*</td>\n",
              "      <td>*</td>\n",
              "      <td>*</td>\n",
              "      <td>*</td>\n",
              "      <td>1</td>\n",
              "      <td>1</td>\n",
              "      <td>1</td>\n",
              "      <td>*</td>\n",
              "      <td>2</td>\n",
              "    </tr>\n",
              "    <tr>\n",
              "      <th>2</th>\n",
              "      <td>*</td>\n",
              "      <td>[17, 36]</td>\n",
              "      <td>Male</td>\n",
              "      <td>United-States</td>\n",
              "      <td>White</td>\n",
              "      <td>Married-civ-spouse</td>\n",
              "      <td>Local-gov</td>\n",
              "      <td>*</td>\n",
              "      <td>&gt;50K</td>\n",
              "      <td>*</td>\n",
              "      <td>*</td>\n",
              "      <td>*</td>\n",
              "      <td>*</td>\n",
              "      <td>*</td>\n",
              "      <td>*</td>\n",
              "      <td>1</td>\n",
              "      <td>1</td>\n",
              "      <td>1</td>\n",
              "      <td>*</td>\n",
              "      <td>2</td>\n",
              "    </tr>\n",
              "    <tr>\n",
              "      <th>3</th>\n",
              "      <td>*</td>\n",
              "      <td>[37, 56]</td>\n",
              "      <td>Male</td>\n",
              "      <td>United-States</td>\n",
              "      <td>Black</td>\n",
              "      <td>Married-civ-spouse</td>\n",
              "      <td>Private</td>\n",
              "      <td>*</td>\n",
              "      <td>&gt;50K</td>\n",
              "      <td>*</td>\n",
              "      <td>*</td>\n",
              "      <td>*</td>\n",
              "      <td>*</td>\n",
              "      <td>*</td>\n",
              "      <td>*</td>\n",
              "      <td>1</td>\n",
              "      <td>0</td>\n",
              "      <td>0</td>\n",
              "      <td>*</td>\n",
              "      <td>0</td>\n",
              "    </tr>\n",
              "    <tr>\n",
              "      <th>4</th>\n",
              "      <td>*</td>\n",
              "      <td>[17, 36]</td>\n",
              "      <td>Female</td>\n",
              "      <td>United-States</td>\n",
              "      <td>White</td>\n",
              "      <td>Never-married</td>\n",
              "      <td>?</td>\n",
              "      <td>*</td>\n",
              "      <td>&lt;=50K</td>\n",
              "      <td>*</td>\n",
              "      <td>*</td>\n",
              "      <td>*</td>\n",
              "      <td>*</td>\n",
              "      <td>*</td>\n",
              "      <td>*</td>\n",
              "      <td>1</td>\n",
              "      <td>0</td>\n",
              "      <td>0</td>\n",
              "      <td>*</td>\n",
              "      <td>0</td>\n",
              "    </tr>\n",
              "  </tbody>\n",
              "</table>\n",
              "</div>"
            ],
            "text/plain": [
              "  ID       age  gender  ... Eyes_Affected Recent_BP Diabetes\n",
              "0  *  [17, 36]    Male  ...             1         *        2\n",
              "1  *  [37, 56]    Male  ...             1         *        2\n",
              "2  *  [17, 36]    Male  ...             1         *        2\n",
              "3  *  [37, 56]    Male  ...             0         *        0\n",
              "4  *  [17, 36]  Female  ...             0         *        0\n",
              "\n",
              "[5 rows x 20 columns]"
            ]
          },
          "metadata": {
            "tags": []
          },
          "execution_count": 36
        }
      ]
    },
    {
      "cell_type": "code",
      "metadata": {
        "id": "jn8SN7YE7XUo",
        "colab_type": "code",
        "colab": {}
      },
      "source": [
        "priv.to_csv(root_path + '/age_general.csv',index=False)"
      ],
      "execution_count": 0,
      "outputs": []
    },
    {
      "cell_type": "code",
      "metadata": {
        "id": "rHDGo-VD7yGc",
        "colab_type": "code",
        "colab": {}
      },
      "source": [
        "df2 = pd.read_csv(root_path + '/age_general.csv')"
      ],
      "execution_count": 0,
      "outputs": []
    },
    {
      "cell_type": "code",
      "metadata": {
        "id": "xZF_QRKM9rSq",
        "colab_type": "code",
        "colab": {}
      },
      "source": [
        "df.iloc[:,1] = df2.iloc[:,1]"
      ],
      "execution_count": 0,
      "outputs": []
    },
    {
      "cell_type": "code",
      "metadata": {
        "id": "awCJLHBO9uiv",
        "colab_type": "code",
        "colab": {
          "base_uri": "https://localhost:8080/",
          "height": 218
        },
        "outputId": "391fecab-2099-4186-e08c-d25b1535521e"
      },
      "source": [
        "df['age']"
      ],
      "execution_count": 46,
      "outputs": [
        {
          "output_type": "execute_result",
          "data": {
            "text/plain": [
              "0       [17, 36]\n",
              "1       [37, 56]\n",
              "2       [17, 36]\n",
              "3       [37, 56]\n",
              "4       [17, 36]\n",
              "          ...   \n",
              "9808           *\n",
              "9809    [37, 56]\n",
              "9810    [57, 76]\n",
              "9811           *\n",
              "9812    [17, 36]\n",
              "Name: age, Length: 9813, dtype: object"
            ]
          },
          "metadata": {
            "tags": []
          },
          "execution_count": 46
        }
      ]
    },
    {
      "cell_type": "code",
      "metadata": {
        "id": "fgWaY4__-AgG",
        "colab_type": "code",
        "colab": {}
      },
      "source": [
        "df.to_csv(root_path + '/new_data.csv',index=False)"
      ],
      "execution_count": 0,
      "outputs": []
    },
    {
      "cell_type": "code",
      "metadata": {
        "id": "jSxaYxOt-s01",
        "colab_type": "code",
        "colab": {}
      },
      "source": [
        "protbp = Protect(df , KAnonymity(5))"
      ],
      "execution_count": 0,
      "outputs": []
    },
    {
      "cell_type": "code",
      "metadata": {
        "id": "6R9MeuZJ_DJ-",
        "colab_type": "code",
        "colab": {}
      },
      "source": [
        "protbp.suppression = .1"
      ],
      "execution_count": 0,
      "outputs": []
    },
    {
      "cell_type": "code",
      "metadata": {
        "id": "ZdD7Oxg5_H4l",
        "colab_type": "code",
        "colab": {
          "base_uri": "https://localhost:8080/",
          "height": 370
        },
        "outputId": "47a5dc03-9c14-4b4b-d007-043fba00f9e3"
      },
      "source": [
        "protbp.itypes.ID = 'identifying'\n",
        "cols = ['age', 'gender', 'native-country', 'race', 'marital-status',\n",
        "       'workclass', 'occupation', 'income', 'People_Family', 'education',\n",
        "       'GlycoHemoglobin', 'ArmCircum', 'SaggitalAbdominal', 'GripStrength',\n",
        "       'Taking_Insulin', 'Taking_Oral_Agents', 'Eyes_Affected', 'Recent_BP',\n",
        "       'Diabetes']\n",
        "for col in cols:\n",
        "  protbp.itypes[col] = 'quasi' \n",
        "coli = ['Taking_Insulin', 'Taking_Oral_Agents', 'Eyes_Affected']\n",
        "\n",
        "for i in coli:\n",
        "  protbp.itypes[i]='insensitive'\n",
        "protbp.itypes.Diabetes = 'insensitive'\n",
        "protbp.itypes"
      ],
      "execution_count": 50,
      "outputs": [
        {
          "output_type": "execute_result",
          "data": {
            "text/plain": [
              "ID                    IDENTIFYING\n",
              "age                         QUASI\n",
              "gender                      QUASI\n",
              "native-country              QUASI\n",
              "race                        QUASI\n",
              "marital-status              QUASI\n",
              "workclass                   QUASI\n",
              "occupation                  QUASI\n",
              "income                      QUASI\n",
              "People_Family               QUASI\n",
              "education                   QUASI\n",
              "GlycoHemoglobin             QUASI\n",
              "ArmCircum                   QUASI\n",
              "SaggitalAbdominal           QUASI\n",
              "GripStrength                QUASI\n",
              "Taking_Insulin        INSENSITIVE\n",
              "Taking_Oral_Agents    INSENSITIVE\n",
              "Eyes_Affected         INSENSITIVE\n",
              "Recent_BP                   QUASI\n",
              "Diabetes              INSENSITIVE\n",
              "dtype: object"
            ]
          },
          "metadata": {
            "tags": []
          },
          "execution_count": 50
        }
      ]
    },
    {
      "cell_type": "code",
      "metadata": {
        "id": "oJEy_txI_RvJ",
        "colab_type": "code",
        "colab": {}
      },
      "source": [
        "protbp.hierarchies.Recent_BP = OrderHierarchy('interval', 10, 2, 2)\n"
      ],
      "execution_count": 0,
      "outputs": []
    },
    {
      "cell_type": "code",
      "metadata": {
        "id": "tLfZpkOS_awI",
        "colab_type": "code",
        "colab": {
          "base_uri": "https://localhost:8080/",
          "height": 370
        },
        "outputId": "e89264b2-ac19-4830-906e-236b16f0b320"
      },
      "source": [
        "priv_bp = protbp.protect()\n",
        "priv_bp.nunique()"
      ],
      "execution_count": 74,
      "outputs": [
        {
          "output_type": "execute_result",
          "data": {
            "text/plain": [
              "ID                     1\n",
              "age                    5\n",
              "gender                 3\n",
              "native-country        16\n",
              "race                   6\n",
              "marital-status         8\n",
              "workclass              1\n",
              "occupation             1\n",
              "income                 3\n",
              "People_Family          1\n",
              "education              1\n",
              "GlycoHemoglobin        1\n",
              "ArmCircum              1\n",
              "SaggitalAbdominal      1\n",
              "GripStrength           1\n",
              "Taking_Insulin         2\n",
              "Taking_Oral_Agents     2\n",
              "Eyes_Affected          2\n",
              "Recent_BP              3\n",
              "Diabetes               3\n",
              "dtype: int64"
            ]
          },
          "metadata": {
            "tags": []
          },
          "execution_count": 74
        }
      ]
    },
    {
      "cell_type": "code",
      "metadata": {
        "id": "c2LwZsmL_itc",
        "colab_type": "code",
        "colab": {
          "base_uri": "https://localhost:8080/",
          "height": 366
        },
        "outputId": "cfaddef4-092f-4871-f3a8-2baf57e561f8"
      },
      "source": [
        "priv_bp.head()"
      ],
      "execution_count": 75,
      "outputs": [
        {
          "output_type": "execute_result",
          "data": {
            "text/html": [
              "<div>\n",
              "<style scoped>\n",
              "    .dataframe tbody tr th:only-of-type {\n",
              "        vertical-align: middle;\n",
              "    }\n",
              "\n",
              "    .dataframe tbody tr th {\n",
              "        vertical-align: top;\n",
              "    }\n",
              "\n",
              "    .dataframe thead th {\n",
              "        text-align: right;\n",
              "    }\n",
              "</style>\n",
              "<table border=\"1\" class=\"dataframe\">\n",
              "  <thead>\n",
              "    <tr style=\"text-align: right;\">\n",
              "      <th></th>\n",
              "      <th>ID</th>\n",
              "      <th>age</th>\n",
              "      <th>gender</th>\n",
              "      <th>native-country</th>\n",
              "      <th>race</th>\n",
              "      <th>marital-status</th>\n",
              "      <th>workclass</th>\n",
              "      <th>occupation</th>\n",
              "      <th>income</th>\n",
              "      <th>People_Family</th>\n",
              "      <th>education</th>\n",
              "      <th>GlycoHemoglobin</th>\n",
              "      <th>ArmCircum</th>\n",
              "      <th>SaggitalAbdominal</th>\n",
              "      <th>GripStrength</th>\n",
              "      <th>Taking_Insulin</th>\n",
              "      <th>Taking_Oral_Agents</th>\n",
              "      <th>Eyes_Affected</th>\n",
              "      <th>Recent_BP</th>\n",
              "      <th>Diabetes</th>\n",
              "    </tr>\n",
              "  </thead>\n",
              "  <tbody>\n",
              "    <tr>\n",
              "      <th>0</th>\n",
              "      <td>*</td>\n",
              "      <td>[17, 36]</td>\n",
              "      <td>Male</td>\n",
              "      <td>United-States</td>\n",
              "      <td>Black</td>\n",
              "      <td>Never-married</td>\n",
              "      <td>*</td>\n",
              "      <td>*</td>\n",
              "      <td>&lt;=50K</td>\n",
              "      <td>*</td>\n",
              "      <td>*</td>\n",
              "      <td>*</td>\n",
              "      <td>*</td>\n",
              "      <td>*</td>\n",
              "      <td>*</td>\n",
              "      <td>1</td>\n",
              "      <td>1</td>\n",
              "      <td>1</td>\n",
              "      <td>[88.0, 135.0]</td>\n",
              "      <td>2</td>\n",
              "    </tr>\n",
              "    <tr>\n",
              "      <th>1</th>\n",
              "      <td>*</td>\n",
              "      <td>[37, 56]</td>\n",
              "      <td>Male</td>\n",
              "      <td>United-States</td>\n",
              "      <td>White</td>\n",
              "      <td>Married-civ-spouse</td>\n",
              "      <td>*</td>\n",
              "      <td>*</td>\n",
              "      <td>&lt;=50K</td>\n",
              "      <td>*</td>\n",
              "      <td>*</td>\n",
              "      <td>*</td>\n",
              "      <td>*</td>\n",
              "      <td>*</td>\n",
              "      <td>*</td>\n",
              "      <td>1</td>\n",
              "      <td>1</td>\n",
              "      <td>1</td>\n",
              "      <td>[88.0, 135.0]</td>\n",
              "      <td>2</td>\n",
              "    </tr>\n",
              "    <tr>\n",
              "      <th>2</th>\n",
              "      <td>*</td>\n",
              "      <td>[17, 36]</td>\n",
              "      <td>Male</td>\n",
              "      <td>United-States</td>\n",
              "      <td>White</td>\n",
              "      <td>Married-civ-spouse</td>\n",
              "      <td>*</td>\n",
              "      <td>*</td>\n",
              "      <td>&gt;50K</td>\n",
              "      <td>*</td>\n",
              "      <td>*</td>\n",
              "      <td>*</td>\n",
              "      <td>*</td>\n",
              "      <td>*</td>\n",
              "      <td>*</td>\n",
              "      <td>1</td>\n",
              "      <td>1</td>\n",
              "      <td>1</td>\n",
              "      <td>[136.0, 7777.0]</td>\n",
              "      <td>2</td>\n",
              "    </tr>\n",
              "    <tr>\n",
              "      <th>3</th>\n",
              "      <td>*</td>\n",
              "      <td>[37, 56]</td>\n",
              "      <td>Male</td>\n",
              "      <td>United-States</td>\n",
              "      <td>Black</td>\n",
              "      <td>Married-civ-spouse</td>\n",
              "      <td>*</td>\n",
              "      <td>*</td>\n",
              "      <td>&gt;50K</td>\n",
              "      <td>*</td>\n",
              "      <td>*</td>\n",
              "      <td>*</td>\n",
              "      <td>*</td>\n",
              "      <td>*</td>\n",
              "      <td>*</td>\n",
              "      <td>1</td>\n",
              "      <td>0</td>\n",
              "      <td>0</td>\n",
              "      <td>[136.0, 7777.0]</td>\n",
              "      <td>0</td>\n",
              "    </tr>\n",
              "    <tr>\n",
              "      <th>4</th>\n",
              "      <td>*</td>\n",
              "      <td>[17, 36]</td>\n",
              "      <td>Female</td>\n",
              "      <td>United-States</td>\n",
              "      <td>White</td>\n",
              "      <td>Never-married</td>\n",
              "      <td>*</td>\n",
              "      <td>*</td>\n",
              "      <td>&lt;=50K</td>\n",
              "      <td>*</td>\n",
              "      <td>*</td>\n",
              "      <td>*</td>\n",
              "      <td>*</td>\n",
              "      <td>*</td>\n",
              "      <td>*</td>\n",
              "      <td>1</td>\n",
              "      <td>0</td>\n",
              "      <td>0</td>\n",
              "      <td>[136.0, 7777.0]</td>\n",
              "      <td>0</td>\n",
              "    </tr>\n",
              "  </tbody>\n",
              "</table>\n",
              "</div>"
            ],
            "text/plain": [
              "  ID       age  gender  ... Eyes_Affected        Recent_BP Diabetes\n",
              "0  *  [17, 36]    Male  ...             1    [88.0, 135.0]        2\n",
              "1  *  [37, 56]    Male  ...             1    [88.0, 135.0]        2\n",
              "2  *  [17, 36]    Male  ...             1  [136.0, 7777.0]        2\n",
              "3  *  [37, 56]    Male  ...             0  [136.0, 7777.0]        0\n",
              "4  *  [17, 36]  Female  ...             0  [136.0, 7777.0]        0\n",
              "\n",
              "[5 rows x 20 columns]"
            ]
          },
          "metadata": {
            "tags": []
          },
          "execution_count": 75
        }
      ]
    },
    {
      "cell_type": "code",
      "metadata": {
        "id": "Y3UfVvgC_l3y",
        "colab_type": "code",
        "colab": {}
      },
      "source": [
        "priv_bp.to_csv(root_path + '/bp_general.csv',index=False)"
      ],
      "execution_count": 0,
      "outputs": []
    },
    {
      "cell_type": "code",
      "metadata": {
        "id": "KgOJRFevAhj6",
        "colab_type": "code",
        "colab": {}
      },
      "source": [
        "df3 = pd.read_csv(root_path + '/bp_general.csv')"
      ],
      "execution_count": 0,
      "outputs": []
    },
    {
      "cell_type": "code",
      "metadata": {
        "id": "VrXLitjIAq2Q",
        "colab_type": "code",
        "colab": {}
      },
      "source": [
        "df.iloc[:,-2] = df3.iloc[:,-2]"
      ],
      "execution_count": 0,
      "outputs": []
    },
    {
      "cell_type": "code",
      "metadata": {
        "id": "FvNxRXduAx2c",
        "colab_type": "code",
        "colab": {}
      },
      "source": [
        "df.to_csv(root_path + '/new_data.csv',index=False)"
      ],
      "execution_count": 0,
      "outputs": []
    },
    {
      "cell_type": "code",
      "metadata": {
        "id": "o3J-bAW3BCEh",
        "colab_type": "code",
        "colab": {
          "base_uri": "https://localhost:8080/",
          "height": 366
        },
        "outputId": "b1c10ebd-19ac-4191-819a-573ea6864cd8"
      },
      "source": [
        "df.head()"
      ],
      "execution_count": 81,
      "outputs": [
        {
          "output_type": "execute_result",
          "data": {
            "text/html": [
              "<div>\n",
              "<style scoped>\n",
              "    .dataframe tbody tr th:only-of-type {\n",
              "        vertical-align: middle;\n",
              "    }\n",
              "\n",
              "    .dataframe tbody tr th {\n",
              "        vertical-align: top;\n",
              "    }\n",
              "\n",
              "    .dataframe thead th {\n",
              "        text-align: right;\n",
              "    }\n",
              "</style>\n",
              "<table border=\"1\" class=\"dataframe\">\n",
              "  <thead>\n",
              "    <tr style=\"text-align: right;\">\n",
              "      <th></th>\n",
              "      <th>ID</th>\n",
              "      <th>age</th>\n",
              "      <th>gender</th>\n",
              "      <th>native-country</th>\n",
              "      <th>race</th>\n",
              "      <th>marital-status</th>\n",
              "      <th>workclass</th>\n",
              "      <th>occupation</th>\n",
              "      <th>income</th>\n",
              "      <th>People_Family</th>\n",
              "      <th>education</th>\n",
              "      <th>GlycoHemoglobin</th>\n",
              "      <th>ArmCircum</th>\n",
              "      <th>SaggitalAbdominal</th>\n",
              "      <th>GripStrength</th>\n",
              "      <th>Taking_Insulin</th>\n",
              "      <th>Taking_Oral_Agents</th>\n",
              "      <th>Eyes_Affected</th>\n",
              "      <th>Recent_BP</th>\n",
              "      <th>Diabetes</th>\n",
              "    </tr>\n",
              "  </thead>\n",
              "  <tbody>\n",
              "    <tr>\n",
              "      <th>0</th>\n",
              "      <td>73557</td>\n",
              "      <td>[17, 36]</td>\n",
              "      <td>Male</td>\n",
              "      <td>United-States</td>\n",
              "      <td>Black</td>\n",
              "      <td>Never-married</td>\n",
              "      <td>Private</td>\n",
              "      <td>Machine-op-inspct</td>\n",
              "      <td>&lt;=50K</td>\n",
              "      <td>3</td>\n",
              "      <td>11th</td>\n",
              "      <td>13.9</td>\n",
              "      <td>35.3</td>\n",
              "      <td>20.6</td>\n",
              "      <td>55.2</td>\n",
              "      <td>1</td>\n",
              "      <td>1</td>\n",
              "      <td>1</td>\n",
              "      <td>[88.0, 135.0]</td>\n",
              "      <td>2</td>\n",
              "    </tr>\n",
              "    <tr>\n",
              "      <th>1</th>\n",
              "      <td>73558</td>\n",
              "      <td>[37, 56]</td>\n",
              "      <td>Male</td>\n",
              "      <td>United-States</td>\n",
              "      <td>White</td>\n",
              "      <td>Married-civ-spouse</td>\n",
              "      <td>Private</td>\n",
              "      <td>Farming-fishing</td>\n",
              "      <td>&lt;=50K</td>\n",
              "      <td>4</td>\n",
              "      <td>HS-grad</td>\n",
              "      <td>9.1</td>\n",
              "      <td>34.7</td>\n",
              "      <td>24.4</td>\n",
              "      <td>61.5</td>\n",
              "      <td>1</td>\n",
              "      <td>1</td>\n",
              "      <td>1</td>\n",
              "      <td>[88.0, 135.0]</td>\n",
              "      <td>2</td>\n",
              "    </tr>\n",
              "    <tr>\n",
              "      <th>2</th>\n",
              "      <td>73559</td>\n",
              "      <td>[17, 36]</td>\n",
              "      <td>Male</td>\n",
              "      <td>United-States</td>\n",
              "      <td>White</td>\n",
              "      <td>Married-civ-spouse</td>\n",
              "      <td>Local-gov</td>\n",
              "      <td>Protective-serv</td>\n",
              "      <td>&gt;50K</td>\n",
              "      <td>2</td>\n",
              "      <td>Assoc-acdm</td>\n",
              "      <td>8.9</td>\n",
              "      <td>33.5</td>\n",
              "      <td>25.6</td>\n",
              "      <td>91.0</td>\n",
              "      <td>1</td>\n",
              "      <td>1</td>\n",
              "      <td>1</td>\n",
              "      <td>[136.0, 7777.0]</td>\n",
              "      <td>2</td>\n",
              "    </tr>\n",
              "    <tr>\n",
              "      <th>3</th>\n",
              "      <td>73560</td>\n",
              "      <td>[37, 56]</td>\n",
              "      <td>Male</td>\n",
              "      <td>United-States</td>\n",
              "      <td>Black</td>\n",
              "      <td>Married-civ-spouse</td>\n",
              "      <td>Private</td>\n",
              "      <td>Machine-op-inspct</td>\n",
              "      <td>&gt;50K</td>\n",
              "      <td>4</td>\n",
              "      <td>Some-college</td>\n",
              "      <td>5.4</td>\n",
              "      <td>21.0</td>\n",
              "      <td>14.9</td>\n",
              "      <td>32.2</td>\n",
              "      <td>1</td>\n",
              "      <td>0</td>\n",
              "      <td>0</td>\n",
              "      <td>[136.0, 7777.0]</td>\n",
              "      <td>0</td>\n",
              "    </tr>\n",
              "    <tr>\n",
              "      <th>4</th>\n",
              "      <td>73561</td>\n",
              "      <td>[17, 36]</td>\n",
              "      <td>Female</td>\n",
              "      <td>United-States</td>\n",
              "      <td>White</td>\n",
              "      <td>Never-married</td>\n",
              "      <td>?</td>\n",
              "      <td>?</td>\n",
              "      <td>&lt;=50K</td>\n",
              "      <td>2</td>\n",
              "      <td>Some-college</td>\n",
              "      <td>4.9</td>\n",
              "      <td>25.2</td>\n",
              "      <td>20.7</td>\n",
              "      <td>30.9</td>\n",
              "      <td>1</td>\n",
              "      <td>0</td>\n",
              "      <td>0</td>\n",
              "      <td>[136.0, 7777.0]</td>\n",
              "      <td>0</td>\n",
              "    </tr>\n",
              "  </tbody>\n",
              "</table>\n",
              "</div>"
            ],
            "text/plain": [
              "      ID       age  gender  ... Eyes_Affected        Recent_BP Diabetes\n",
              "0  73557  [17, 36]    Male  ...             1    [88.0, 135.0]        2\n",
              "1  73558  [37, 56]    Male  ...             1    [88.0, 135.0]        2\n",
              "2  73559  [17, 36]    Male  ...             1  [136.0, 7777.0]        2\n",
              "3  73560  [37, 56]    Male  ...             0  [136.0, 7777.0]        0\n",
              "4  73561  [17, 36]  Female  ...             0  [136.0, 7777.0]        0\n",
              "\n",
              "[5 rows x 20 columns]"
            ]
          },
          "metadata": {
            "tags": []
          },
          "execution_count": 81
        }
      ]
    },
    {
      "cell_type": "code",
      "metadata": {
        "id": "AwcqkHplBDhE",
        "colab_type": "code",
        "colab": {}
      },
      "source": [
        "protpeople = Protect(df , KAnonymity(5))"
      ],
      "execution_count": 0,
      "outputs": []
    },
    {
      "cell_type": "code",
      "metadata": {
        "id": "BlkCCxP9Bhja",
        "colab_type": "code",
        "colab": {}
      },
      "source": [
        "protpeople.suppression = .1"
      ],
      "execution_count": 0,
      "outputs": []
    },
    {
      "cell_type": "code",
      "metadata": {
        "id": "h_wKy6sMBkQd",
        "colab_type": "code",
        "colab": {
          "base_uri": "https://localhost:8080/",
          "height": 370
        },
        "outputId": "f4308aa0-c159-43a6-9206-6445ea2ac4d1"
      },
      "source": [
        "protpeople.itypes.ID = 'identifying'\n",
        "cols = ['age', 'gender', 'native-country', 'race', 'marital-status',\n",
        "       'workclass', 'occupation', 'income', 'People_Family', 'education',\n",
        "       'GlycoHemoglobin', 'ArmCircum', 'SaggitalAbdominal', 'GripStrength',\n",
        "       'Taking_Insulin', 'Taking_Oral_Agents', 'Eyes_Affected', 'Recent_BP',\n",
        "       'Diabetes']\n",
        "for col in cols:\n",
        "  protpeople.itypes[col] = 'quasi' \n",
        "coli = ['Taking_Insulin', 'Taking_Oral_Agents', 'Eyes_Affected']\n",
        "\n",
        "for i in coli:\n",
        "  protpeople.itypes[i]='insensitive'\n",
        "protpeople.itypes.Diabetes = 'insensitive'\n",
        "protpeople.itypes"
      ],
      "execution_count": 84,
      "outputs": [
        {
          "output_type": "execute_result",
          "data": {
            "text/plain": [
              "ID                    IDENTIFYING\n",
              "age                         QUASI\n",
              "gender                      QUASI\n",
              "native-country              QUASI\n",
              "race                        QUASI\n",
              "marital-status              QUASI\n",
              "workclass                   QUASI\n",
              "occupation                  QUASI\n",
              "income                      QUASI\n",
              "People_Family               QUASI\n",
              "education                   QUASI\n",
              "GlycoHemoglobin             QUASI\n",
              "ArmCircum                   QUASI\n",
              "SaggitalAbdominal           QUASI\n",
              "GripStrength                QUASI\n",
              "Taking_Insulin        INSENSITIVE\n",
              "Taking_Oral_Agents    INSENSITIVE\n",
              "Eyes_Affected         INSENSITIVE\n",
              "Recent_BP                   QUASI\n",
              "Diabetes              INSENSITIVE\n",
              "dtype: object"
            ]
          },
          "metadata": {
            "tags": []
          },
          "execution_count": 84
        }
      ]
    },
    {
      "cell_type": "code",
      "metadata": {
        "id": "8WpjSGtpBvAM",
        "colab_type": "code",
        "colab": {}
      },
      "source": [
        "protpeople.hierarchies.People_Family = OrderHierarchy('interval',5, 2, 2)\n"
      ],
      "execution_count": 0,
      "outputs": []
    },
    {
      "cell_type": "code",
      "metadata": {
        "id": "Ki-lleXyB9sE",
        "colab_type": "code",
        "colab": {
          "base_uri": "https://localhost:8080/",
          "height": 370
        },
        "outputId": "5c7f7f19-b845-4aa2-adfc-3de9ed3043ba"
      },
      "source": [
        "privpeople = protpeople.protect()\n",
        "privpeople.nunique()"
      ],
      "execution_count": 102,
      "outputs": [
        {
          "output_type": "execute_result",
          "data": {
            "text/plain": [
              "ID                     1\n",
              "age                    5\n",
              "gender                 3\n",
              "native-country        20\n",
              "race                   6\n",
              "marital-status         8\n",
              "workclass              1\n",
              "occupation             1\n",
              "income                 3\n",
              "People_Family          2\n",
              "education              1\n",
              "GlycoHemoglobin        1\n",
              "ArmCircum              1\n",
              "SaggitalAbdominal      1\n",
              "GripStrength           1\n",
              "Taking_Insulin         2\n",
              "Taking_Oral_Agents     2\n",
              "Eyes_Affected          2\n",
              "Recent_BP              3\n",
              "Diabetes               3\n",
              "dtype: int64"
            ]
          },
          "metadata": {
            "tags": []
          },
          "execution_count": 102
        }
      ]
    },
    {
      "cell_type": "code",
      "metadata": {
        "id": "TgyKIUOpCMqJ",
        "colab_type": "code",
        "colab": {
          "base_uri": "https://localhost:8080/",
          "height": 366
        },
        "outputId": "acfad58c-8cf6-4264-a3b3-7c1f21c37383"
      },
      "source": [
        "privpeople.head()"
      ],
      "execution_count": 103,
      "outputs": [
        {
          "output_type": "execute_result",
          "data": {
            "text/html": [
              "<div>\n",
              "<style scoped>\n",
              "    .dataframe tbody tr th:only-of-type {\n",
              "        vertical-align: middle;\n",
              "    }\n",
              "\n",
              "    .dataframe tbody tr th {\n",
              "        vertical-align: top;\n",
              "    }\n",
              "\n",
              "    .dataframe thead th {\n",
              "        text-align: right;\n",
              "    }\n",
              "</style>\n",
              "<table border=\"1\" class=\"dataframe\">\n",
              "  <thead>\n",
              "    <tr style=\"text-align: right;\">\n",
              "      <th></th>\n",
              "      <th>ID</th>\n",
              "      <th>age</th>\n",
              "      <th>gender</th>\n",
              "      <th>native-country</th>\n",
              "      <th>race</th>\n",
              "      <th>marital-status</th>\n",
              "      <th>workclass</th>\n",
              "      <th>occupation</th>\n",
              "      <th>income</th>\n",
              "      <th>People_Family</th>\n",
              "      <th>education</th>\n",
              "      <th>GlycoHemoglobin</th>\n",
              "      <th>ArmCircum</th>\n",
              "      <th>SaggitalAbdominal</th>\n",
              "      <th>GripStrength</th>\n",
              "      <th>Taking_Insulin</th>\n",
              "      <th>Taking_Oral_Agents</th>\n",
              "      <th>Eyes_Affected</th>\n",
              "      <th>Recent_BP</th>\n",
              "      <th>Diabetes</th>\n",
              "    </tr>\n",
              "  </thead>\n",
              "  <tbody>\n",
              "    <tr>\n",
              "      <th>0</th>\n",
              "      <td>*</td>\n",
              "      <td>[17, 36]</td>\n",
              "      <td>Male</td>\n",
              "      <td>United-States</td>\n",
              "      <td>Black</td>\n",
              "      <td>Never-married</td>\n",
              "      <td>*</td>\n",
              "      <td>*</td>\n",
              "      <td>&lt;=50K</td>\n",
              "      <td>[1, 7]</td>\n",
              "      <td>*</td>\n",
              "      <td>*</td>\n",
              "      <td>*</td>\n",
              "      <td>*</td>\n",
              "      <td>*</td>\n",
              "      <td>1</td>\n",
              "      <td>1</td>\n",
              "      <td>1</td>\n",
              "      <td>[88.0, 135.0]</td>\n",
              "      <td>2</td>\n",
              "    </tr>\n",
              "    <tr>\n",
              "      <th>1</th>\n",
              "      <td>*</td>\n",
              "      <td>[37, 56]</td>\n",
              "      <td>Male</td>\n",
              "      <td>United-States</td>\n",
              "      <td>White</td>\n",
              "      <td>Married-civ-spouse</td>\n",
              "      <td>*</td>\n",
              "      <td>*</td>\n",
              "      <td>&lt;=50K</td>\n",
              "      <td>[1, 7]</td>\n",
              "      <td>*</td>\n",
              "      <td>*</td>\n",
              "      <td>*</td>\n",
              "      <td>*</td>\n",
              "      <td>*</td>\n",
              "      <td>1</td>\n",
              "      <td>1</td>\n",
              "      <td>1</td>\n",
              "      <td>[88.0, 135.0]</td>\n",
              "      <td>2</td>\n",
              "    </tr>\n",
              "    <tr>\n",
              "      <th>2</th>\n",
              "      <td>*</td>\n",
              "      <td>[17, 36]</td>\n",
              "      <td>Male</td>\n",
              "      <td>United-States</td>\n",
              "      <td>White</td>\n",
              "      <td>Married-civ-spouse</td>\n",
              "      <td>*</td>\n",
              "      <td>*</td>\n",
              "      <td>&gt;50K</td>\n",
              "      <td>[1, 7]</td>\n",
              "      <td>*</td>\n",
              "      <td>*</td>\n",
              "      <td>*</td>\n",
              "      <td>*</td>\n",
              "      <td>*</td>\n",
              "      <td>1</td>\n",
              "      <td>1</td>\n",
              "      <td>1</td>\n",
              "      <td>[136.0, 7777.0]</td>\n",
              "      <td>2</td>\n",
              "    </tr>\n",
              "    <tr>\n",
              "      <th>3</th>\n",
              "      <td>*</td>\n",
              "      <td>[37, 56]</td>\n",
              "      <td>Male</td>\n",
              "      <td>United-States</td>\n",
              "      <td>Black</td>\n",
              "      <td>Married-civ-spouse</td>\n",
              "      <td>*</td>\n",
              "      <td>*</td>\n",
              "      <td>&gt;50K</td>\n",
              "      <td>[1, 7]</td>\n",
              "      <td>*</td>\n",
              "      <td>*</td>\n",
              "      <td>*</td>\n",
              "      <td>*</td>\n",
              "      <td>*</td>\n",
              "      <td>1</td>\n",
              "      <td>0</td>\n",
              "      <td>0</td>\n",
              "      <td>[136.0, 7777.0]</td>\n",
              "      <td>0</td>\n",
              "    </tr>\n",
              "    <tr>\n",
              "      <th>4</th>\n",
              "      <td>*</td>\n",
              "      <td>[17, 36]</td>\n",
              "      <td>Female</td>\n",
              "      <td>United-States</td>\n",
              "      <td>White</td>\n",
              "      <td>Never-married</td>\n",
              "      <td>*</td>\n",
              "      <td>*</td>\n",
              "      <td>&lt;=50K</td>\n",
              "      <td>[1, 7]</td>\n",
              "      <td>*</td>\n",
              "      <td>*</td>\n",
              "      <td>*</td>\n",
              "      <td>*</td>\n",
              "      <td>*</td>\n",
              "      <td>1</td>\n",
              "      <td>0</td>\n",
              "      <td>0</td>\n",
              "      <td>[136.0, 7777.0]</td>\n",
              "      <td>0</td>\n",
              "    </tr>\n",
              "  </tbody>\n",
              "</table>\n",
              "</div>"
            ],
            "text/plain": [
              "  ID       age  gender  ... Eyes_Affected        Recent_BP Diabetes\n",
              "0  *  [17, 36]    Male  ...             1    [88.0, 135.0]        2\n",
              "1  *  [37, 56]    Male  ...             1    [88.0, 135.0]        2\n",
              "2  *  [17, 36]    Male  ...             1  [136.0, 7777.0]        2\n",
              "3  *  [37, 56]    Male  ...             0  [136.0, 7777.0]        0\n",
              "4  *  [17, 36]  Female  ...             0  [136.0, 7777.0]        0\n",
              "\n",
              "[5 rows x 20 columns]"
            ]
          },
          "metadata": {
            "tags": []
          },
          "execution_count": 103
        }
      ]
    },
    {
      "cell_type": "code",
      "metadata": {
        "id": "1eYZAhjuCwCM",
        "colab_type": "code",
        "colab": {}
      },
      "source": [
        "privpeople.to_csv(root_path + '/people_general.csv',index=False)"
      ],
      "execution_count": 0,
      "outputs": []
    },
    {
      "cell_type": "code",
      "metadata": {
        "id": "Ozqk1cb3DCKq",
        "colab_type": "code",
        "colab": {}
      },
      "source": [
        "df.iloc[:,9] = privpeople.iloc[:,9]"
      ],
      "execution_count": 0,
      "outputs": []
    },
    {
      "cell_type": "code",
      "metadata": {
        "id": "rfBiW9Q3DLhD",
        "colab_type": "code",
        "colab": {
          "base_uri": "https://localhost:8080/",
          "height": 366
        },
        "outputId": "77e2b518-f26c-4b97-bf42-ef0d006899c8"
      },
      "source": [
        "df.head()"
      ],
      "execution_count": 106,
      "outputs": [
        {
          "output_type": "execute_result",
          "data": {
            "text/html": [
              "<div>\n",
              "<style scoped>\n",
              "    .dataframe tbody tr th:only-of-type {\n",
              "        vertical-align: middle;\n",
              "    }\n",
              "\n",
              "    .dataframe tbody tr th {\n",
              "        vertical-align: top;\n",
              "    }\n",
              "\n",
              "    .dataframe thead th {\n",
              "        text-align: right;\n",
              "    }\n",
              "</style>\n",
              "<table border=\"1\" class=\"dataframe\">\n",
              "  <thead>\n",
              "    <tr style=\"text-align: right;\">\n",
              "      <th></th>\n",
              "      <th>ID</th>\n",
              "      <th>age</th>\n",
              "      <th>gender</th>\n",
              "      <th>native-country</th>\n",
              "      <th>race</th>\n",
              "      <th>marital-status</th>\n",
              "      <th>workclass</th>\n",
              "      <th>occupation</th>\n",
              "      <th>income</th>\n",
              "      <th>People_Family</th>\n",
              "      <th>education</th>\n",
              "      <th>GlycoHemoglobin</th>\n",
              "      <th>ArmCircum</th>\n",
              "      <th>SaggitalAbdominal</th>\n",
              "      <th>GripStrength</th>\n",
              "      <th>Taking_Insulin</th>\n",
              "      <th>Taking_Oral_Agents</th>\n",
              "      <th>Eyes_Affected</th>\n",
              "      <th>Recent_BP</th>\n",
              "      <th>Diabetes</th>\n",
              "    </tr>\n",
              "  </thead>\n",
              "  <tbody>\n",
              "    <tr>\n",
              "      <th>0</th>\n",
              "      <td>73557</td>\n",
              "      <td>[17, 36]</td>\n",
              "      <td>Male</td>\n",
              "      <td>United-States</td>\n",
              "      <td>Black</td>\n",
              "      <td>Never-married</td>\n",
              "      <td>Private</td>\n",
              "      <td>Machine-op-inspct</td>\n",
              "      <td>&lt;=50K</td>\n",
              "      <td>[1, 7]</td>\n",
              "      <td>11th</td>\n",
              "      <td>13.9</td>\n",
              "      <td>35.3</td>\n",
              "      <td>20.6</td>\n",
              "      <td>55.2</td>\n",
              "      <td>1</td>\n",
              "      <td>1</td>\n",
              "      <td>1</td>\n",
              "      <td>[88.0, 135.0]</td>\n",
              "      <td>2</td>\n",
              "    </tr>\n",
              "    <tr>\n",
              "      <th>1</th>\n",
              "      <td>73558</td>\n",
              "      <td>[37, 56]</td>\n",
              "      <td>Male</td>\n",
              "      <td>United-States</td>\n",
              "      <td>White</td>\n",
              "      <td>Married-civ-spouse</td>\n",
              "      <td>Private</td>\n",
              "      <td>Farming-fishing</td>\n",
              "      <td>&lt;=50K</td>\n",
              "      <td>[1, 7]</td>\n",
              "      <td>HS-grad</td>\n",
              "      <td>9.1</td>\n",
              "      <td>34.7</td>\n",
              "      <td>24.4</td>\n",
              "      <td>61.5</td>\n",
              "      <td>1</td>\n",
              "      <td>1</td>\n",
              "      <td>1</td>\n",
              "      <td>[88.0, 135.0]</td>\n",
              "      <td>2</td>\n",
              "    </tr>\n",
              "    <tr>\n",
              "      <th>2</th>\n",
              "      <td>73559</td>\n",
              "      <td>[17, 36]</td>\n",
              "      <td>Male</td>\n",
              "      <td>United-States</td>\n",
              "      <td>White</td>\n",
              "      <td>Married-civ-spouse</td>\n",
              "      <td>Local-gov</td>\n",
              "      <td>Protective-serv</td>\n",
              "      <td>&gt;50K</td>\n",
              "      <td>[1, 7]</td>\n",
              "      <td>Assoc-acdm</td>\n",
              "      <td>8.9</td>\n",
              "      <td>33.5</td>\n",
              "      <td>25.6</td>\n",
              "      <td>91.0</td>\n",
              "      <td>1</td>\n",
              "      <td>1</td>\n",
              "      <td>1</td>\n",
              "      <td>[136.0, 7777.0]</td>\n",
              "      <td>2</td>\n",
              "    </tr>\n",
              "    <tr>\n",
              "      <th>3</th>\n",
              "      <td>73560</td>\n",
              "      <td>[37, 56]</td>\n",
              "      <td>Male</td>\n",
              "      <td>United-States</td>\n",
              "      <td>Black</td>\n",
              "      <td>Married-civ-spouse</td>\n",
              "      <td>Private</td>\n",
              "      <td>Machine-op-inspct</td>\n",
              "      <td>&gt;50K</td>\n",
              "      <td>[1, 7]</td>\n",
              "      <td>Some-college</td>\n",
              "      <td>5.4</td>\n",
              "      <td>21.0</td>\n",
              "      <td>14.9</td>\n",
              "      <td>32.2</td>\n",
              "      <td>1</td>\n",
              "      <td>0</td>\n",
              "      <td>0</td>\n",
              "      <td>[136.0, 7777.0]</td>\n",
              "      <td>0</td>\n",
              "    </tr>\n",
              "    <tr>\n",
              "      <th>4</th>\n",
              "      <td>73561</td>\n",
              "      <td>[17, 36]</td>\n",
              "      <td>Female</td>\n",
              "      <td>United-States</td>\n",
              "      <td>White</td>\n",
              "      <td>Never-married</td>\n",
              "      <td>?</td>\n",
              "      <td>?</td>\n",
              "      <td>&lt;=50K</td>\n",
              "      <td>[1, 7]</td>\n",
              "      <td>Some-college</td>\n",
              "      <td>4.9</td>\n",
              "      <td>25.2</td>\n",
              "      <td>20.7</td>\n",
              "      <td>30.9</td>\n",
              "      <td>1</td>\n",
              "      <td>0</td>\n",
              "      <td>0</td>\n",
              "      <td>[136.0, 7777.0]</td>\n",
              "      <td>0</td>\n",
              "    </tr>\n",
              "  </tbody>\n",
              "</table>\n",
              "</div>"
            ],
            "text/plain": [
              "      ID       age  gender  ... Eyes_Affected        Recent_BP Diabetes\n",
              "0  73557  [17, 36]    Male  ...             1    [88.0, 135.0]        2\n",
              "1  73558  [37, 56]    Male  ...             1    [88.0, 135.0]        2\n",
              "2  73559  [17, 36]    Male  ...             1  [136.0, 7777.0]        2\n",
              "3  73560  [37, 56]    Male  ...             0  [136.0, 7777.0]        0\n",
              "4  73561  [17, 36]  Female  ...             0  [136.0, 7777.0]        0\n",
              "\n",
              "[5 rows x 20 columns]"
            ]
          },
          "metadata": {
            "tags": []
          },
          "execution_count": 106
        }
      ]
    },
    {
      "cell_type": "code",
      "metadata": {
        "id": "NaP_IWmNDM4b",
        "colab_type": "code",
        "colab": {}
      },
      "source": [
        "df.to_csv(root_path + '/new_data.csv' , index=False)"
      ],
      "execution_count": 0,
      "outputs": []
    },
    {
      "cell_type": "code",
      "metadata": {
        "id": "jAEgRG1BDVm2",
        "colab_type": "code",
        "colab": {}
      },
      "source": [
        "protglyco = Protect(df , KAnonymity(5))"
      ],
      "execution_count": 0,
      "outputs": []
    },
    {
      "cell_type": "code",
      "metadata": {
        "id": "TStjEEFvDyJZ",
        "colab_type": "code",
        "colab": {}
      },
      "source": [
        "protglyco.suppression = .1"
      ],
      "execution_count": 0,
      "outputs": []
    },
    {
      "cell_type": "code",
      "metadata": {
        "id": "n6QTl1MHD2at",
        "colab_type": "code",
        "colab": {}
      },
      "source": [
        "protglyco.itypes.ID = 'identifying'\n",
        "cols = ['age', 'gender', 'native-country', 'race', 'marital-status',\n",
        "       'workclass', 'occupation', 'income', 'People_Family', 'education',\n",
        "       'GlycoHemoglobin', 'ArmCircum', 'SaggitalAbdominal', 'GripStrength',\n",
        "       'Taking_Insulin', 'Taking_Oral_Agents', 'Eyes_Affected', 'Recent_BP',\n",
        "       'Diabetes']\n",
        "for col in cols:\n",
        "  protglyco.itypes[col] = 'quasi' \n",
        "coli = ['Taking_Insulin', 'Taking_Oral_Agents', 'Eyes_Affected']\n",
        "\n",
        "for i in coli:\n",
        "  protglyco.itypes[i]='insensitive'\n",
        "protglyco.itypes.Diabetes = 'insensitive'"
      ],
      "execution_count": 0,
      "outputs": []
    },
    {
      "cell_type": "code",
      "metadata": {
        "id": "GOYdiWEUECJx",
        "colab_type": "code",
        "colab": {}
      },
      "source": [
        "protglyco.hierarchies.GlycoHemoglobin = OrderHierarchy('interval',8, 2, 2)\n"
      ],
      "execution_count": 0,
      "outputs": []
    },
    {
      "cell_type": "code",
      "metadata": {
        "id": "8xJ57WEOEMsM",
        "colab_type": "code",
        "colab": {
          "base_uri": "https://localhost:8080/",
          "height": 370
        },
        "outputId": "87d7ce09-f043-4a13-94d9-ce95d680ad79"
      },
      "source": [
        "privglyco = protglyco.protect()\n",
        "privglyco.nunique()"
      ],
      "execution_count": 134,
      "outputs": [
        {
          "output_type": "execute_result",
          "data": {
            "text/plain": [
              "ID                     1\n",
              "age                    5\n",
              "gender                 3\n",
              "native-country        19\n",
              "race                   6\n",
              "marital-status         8\n",
              "workclass              1\n",
              "occupation             1\n",
              "income                 3\n",
              "People_Family          2\n",
              "education              1\n",
              "GlycoHemoglobin        4\n",
              "ArmCircum              1\n",
              "SaggitalAbdominal      1\n",
              "GripStrength           1\n",
              "Taking_Insulin         2\n",
              "Taking_Oral_Agents     2\n",
              "Eyes_Affected          2\n",
              "Recent_BP              3\n",
              "Diabetes               3\n",
              "dtype: int64"
            ]
          },
          "metadata": {
            "tags": []
          },
          "execution_count": 134
        }
      ]
    },
    {
      "cell_type": "code",
      "metadata": {
        "id": "CIewlBgjEV8b",
        "colab_type": "code",
        "colab": {
          "base_uri": "https://localhost:8080/",
          "height": 316
        },
        "outputId": "046b66ce-4787-4c39-ea60-f3b545143b6e"
      },
      "source": [
        "privglyco.head()"
      ],
      "execution_count": 135,
      "outputs": [
        {
          "output_type": "execute_result",
          "data": {
            "text/html": [
              "<div>\n",
              "<style scoped>\n",
              "    .dataframe tbody tr th:only-of-type {\n",
              "        vertical-align: middle;\n",
              "    }\n",
              "\n",
              "    .dataframe tbody tr th {\n",
              "        vertical-align: top;\n",
              "    }\n",
              "\n",
              "    .dataframe thead th {\n",
              "        text-align: right;\n",
              "    }\n",
              "</style>\n",
              "<table border=\"1\" class=\"dataframe\">\n",
              "  <thead>\n",
              "    <tr style=\"text-align: right;\">\n",
              "      <th></th>\n",
              "      <th>ID</th>\n",
              "      <th>age</th>\n",
              "      <th>gender</th>\n",
              "      <th>native-country</th>\n",
              "      <th>race</th>\n",
              "      <th>marital-status</th>\n",
              "      <th>workclass</th>\n",
              "      <th>occupation</th>\n",
              "      <th>income</th>\n",
              "      <th>People_Family</th>\n",
              "      <th>education</th>\n",
              "      <th>GlycoHemoglobin</th>\n",
              "      <th>ArmCircum</th>\n",
              "      <th>SaggitalAbdominal</th>\n",
              "      <th>GripStrength</th>\n",
              "      <th>Taking_Insulin</th>\n",
              "      <th>Taking_Oral_Agents</th>\n",
              "      <th>Eyes_Affected</th>\n",
              "      <th>Recent_BP</th>\n",
              "      <th>Diabetes</th>\n",
              "    </tr>\n",
              "  </thead>\n",
              "  <tbody>\n",
              "    <tr>\n",
              "      <th>0</th>\n",
              "      <td>*</td>\n",
              "      <td>*</td>\n",
              "      <td>*</td>\n",
              "      <td>*</td>\n",
              "      <td>*</td>\n",
              "      <td>*</td>\n",
              "      <td>*</td>\n",
              "      <td>*</td>\n",
              "      <td>*</td>\n",
              "      <td>*</td>\n",
              "      <td>*</td>\n",
              "      <td>*</td>\n",
              "      <td>*</td>\n",
              "      <td>*</td>\n",
              "      <td>*</td>\n",
              "      <td>1</td>\n",
              "      <td>1</td>\n",
              "      <td>1</td>\n",
              "      <td>*</td>\n",
              "      <td>2</td>\n",
              "    </tr>\n",
              "    <tr>\n",
              "      <th>1</th>\n",
              "      <td>*</td>\n",
              "      <td>[37, 56]</td>\n",
              "      <td>Male</td>\n",
              "      <td>United-States</td>\n",
              "      <td>White</td>\n",
              "      <td>Married-civ-spouse</td>\n",
              "      <td>*</td>\n",
              "      <td>*</td>\n",
              "      <td>&lt;=50K</td>\n",
              "      <td>[1, 7]</td>\n",
              "      <td>*</td>\n",
              "      <td>[6.9, 10.0]</td>\n",
              "      <td>*</td>\n",
              "      <td>*</td>\n",
              "      <td>*</td>\n",
              "      <td>1</td>\n",
              "      <td>1</td>\n",
              "      <td>1</td>\n",
              "      <td>[88.0, 135.0]</td>\n",
              "      <td>2</td>\n",
              "    </tr>\n",
              "    <tr>\n",
              "      <th>2</th>\n",
              "      <td>*</td>\n",
              "      <td>*</td>\n",
              "      <td>*</td>\n",
              "      <td>*</td>\n",
              "      <td>*</td>\n",
              "      <td>*</td>\n",
              "      <td>*</td>\n",
              "      <td>*</td>\n",
              "      <td>*</td>\n",
              "      <td>*</td>\n",
              "      <td>*</td>\n",
              "      <td>*</td>\n",
              "      <td>*</td>\n",
              "      <td>*</td>\n",
              "      <td>*</td>\n",
              "      <td>1</td>\n",
              "      <td>1</td>\n",
              "      <td>1</td>\n",
              "      <td>*</td>\n",
              "      <td>2</td>\n",
              "    </tr>\n",
              "    <tr>\n",
              "      <th>3</th>\n",
              "      <td>*</td>\n",
              "      <td>[37, 56]</td>\n",
              "      <td>Male</td>\n",
              "      <td>United-States</td>\n",
              "      <td>Black</td>\n",
              "      <td>Married-civ-spouse</td>\n",
              "      <td>*</td>\n",
              "      <td>*</td>\n",
              "      <td>&gt;50K</td>\n",
              "      <td>[1, 7]</td>\n",
              "      <td>*</td>\n",
              "      <td>[3.5, 6.8]</td>\n",
              "      <td>*</td>\n",
              "      <td>*</td>\n",
              "      <td>*</td>\n",
              "      <td>1</td>\n",
              "      <td>0</td>\n",
              "      <td>0</td>\n",
              "      <td>[136.0, 7777.0]</td>\n",
              "      <td>0</td>\n",
              "    </tr>\n",
              "    <tr>\n",
              "      <th>4</th>\n",
              "      <td>*</td>\n",
              "      <td>[17, 36]</td>\n",
              "      <td>Female</td>\n",
              "      <td>United-States</td>\n",
              "      <td>White</td>\n",
              "      <td>Never-married</td>\n",
              "      <td>*</td>\n",
              "      <td>*</td>\n",
              "      <td>&lt;=50K</td>\n",
              "      <td>[1, 7]</td>\n",
              "      <td>*</td>\n",
              "      <td>[3.5, 6.8]</td>\n",
              "      <td>*</td>\n",
              "      <td>*</td>\n",
              "      <td>*</td>\n",
              "      <td>1</td>\n",
              "      <td>0</td>\n",
              "      <td>0</td>\n",
              "      <td>[136.0, 7777.0]</td>\n",
              "      <td>0</td>\n",
              "    </tr>\n",
              "  </tbody>\n",
              "</table>\n",
              "</div>"
            ],
            "text/plain": [
              "  ID       age  gender  ... Eyes_Affected        Recent_BP Diabetes\n",
              "0  *         *       *  ...             1                *        2\n",
              "1  *  [37, 56]    Male  ...             1    [88.0, 135.0]        2\n",
              "2  *         *       *  ...             1                *        2\n",
              "3  *  [37, 56]    Male  ...             0  [136.0, 7777.0]        0\n",
              "4  *  [17, 36]  Female  ...             0  [136.0, 7777.0]        0\n",
              "\n",
              "[5 rows x 20 columns]"
            ]
          },
          "metadata": {
            "tags": []
          },
          "execution_count": 135
        }
      ]
    },
    {
      "cell_type": "code",
      "metadata": {
        "id": "LkxB3z-_EyqF",
        "colab_type": "code",
        "colab": {}
      },
      "source": [
        "privglyco.to_csv(root_path + '/glyco_general.csv',index=False)\n",
        "df.iloc[:,11] = privglyco.iloc[:,11]\n",
        "df.head()\n",
        "df.to_csv(root_path + '/new_data.csv' , index=False)"
      ],
      "execution_count": 0,
      "outputs": []
    },
    {
      "cell_type": "code",
      "metadata": {
        "id": "enToVsfoHqdH",
        "colab_type": "code",
        "colab": {
          "base_uri": "https://localhost:8080/",
          "height": 370
        },
        "outputId": "9ecfa6b7-267c-45aa-ccc4-f5c0185c2b08"
      },
      "source": [
        "df.nunique()"
      ],
      "execution_count": 150,
      "outputs": [
        {
          "output_type": "execute_result",
          "data": {
            "text/plain": [
              "ID                    9813\n",
              "age                      5\n",
              "gender                   2\n",
              "native-country          41\n",
              "race                     5\n",
              "marital-status           7\n",
              "workclass                9\n",
              "occupation              15\n",
              "income                   2\n",
              "People_Family            2\n",
              "education               16\n",
              "GlycoHemoglobin          4\n",
              "ArmCircum              408\n",
              "SaggitalAbdominal      271\n",
              "GripStrength          1128\n",
              "Taking_Insulin           2\n",
              "Taking_Oral_Agents       2\n",
              "Eyes_Affected            2\n",
              "Recent_BP                3\n",
              "Diabetes                 3\n",
              "dtype: int64"
            ]
          },
          "metadata": {
            "tags": []
          },
          "execution_count": 150
        }
      ]
    },
    {
      "cell_type": "code",
      "metadata": {
        "id": "iWEMvtDDFKMu",
        "colab_type": "code",
        "colab": {}
      },
      "source": [
        "protarm = Protect(df , KAnonymity(5))\n",
        "protarm.suppression = .1"
      ],
      "execution_count": 0,
      "outputs": []
    },
    {
      "cell_type": "code",
      "metadata": {
        "id": "9q9ka-n6Fv_m",
        "colab_type": "code",
        "colab": {
          "base_uri": "https://localhost:8080/",
          "height": 370
        },
        "outputId": "04923cca-b6b0-4ccc-c683-6093c66d2cfd"
      },
      "source": [
        "protarm.itypes.ID = 'identifying'\n",
        "cols = ['age', 'gender', 'native-country', 'race', 'marital-status',\n",
        "       'workclass', 'occupation', 'income', 'People_Family', 'education',\n",
        "       'GlycoHemoglobin', 'ArmCircum', 'SaggitalAbdominal', 'GripStrength',\n",
        "       'Taking_Insulin', 'Taking_Oral_Agents', 'Eyes_Affected', 'Recent_BP',\n",
        "       'Diabetes']\n",
        "for col in cols:\n",
        "  protarm.itypes[col] = 'quasi' \n",
        "coli = ['Taking_Insulin', 'Taking_Oral_Agents', 'Eyes_Affected']\n",
        "\n",
        "for i in coli:\n",
        "  protarm.itypes[i]='insensitive'\n",
        "protarm.itypes.Diabetes = 'insensitive'\n",
        "protarm.hierarchies.SaggitalAbdominal = OrderHierarchy('interval',6,1, 2)\n",
        "privarm = protarm.protect()\n",
        "privarm.nunique()\n"
      ],
      "execution_count": 151,
      "outputs": [
        {
          "output_type": "execute_result",
          "data": {
            "text/plain": [
              "ID                     1\n",
              "age                    1\n",
              "gender                 1\n",
              "native-country        13\n",
              "race                   6\n",
              "marital-status         1\n",
              "workclass              1\n",
              "occupation             1\n",
              "income                 1\n",
              "People_Family          2\n",
              "education              1\n",
              "GlycoHemoglobin        3\n",
              "ArmCircum              1\n",
              "SaggitalAbdominal     24\n",
              "GripStrength           1\n",
              "Taking_Insulin         2\n",
              "Taking_Oral_Agents     2\n",
              "Eyes_Affected          2\n",
              "Recent_BP              1\n",
              "Diabetes               3\n",
              "dtype: int64"
            ]
          },
          "metadata": {
            "tags": []
          },
          "execution_count": 151
        }
      ]
    },
    {
      "cell_type": "code",
      "metadata": {
        "id": "p1b_UDvvF5IQ",
        "colab_type": "code",
        "colab": {}
      },
      "source": [
        "privarm.to_csv(root_path + '/sagital_general.csv',index=False)\n",
        "df.iloc[:,13] = privarm.iloc[:,13]\n",
        "df.to_csv(root_path + '/new_data.csv' , index=False)"
      ],
      "execution_count": 0,
      "outputs": []
    },
    {
      "cell_type": "code",
      "metadata": {
        "id": "EPf9HoSLIKdY",
        "colab_type": "code",
        "colab": {
          "base_uri": "https://localhost:8080/",
          "height": 366
        },
        "outputId": "c730ab89-565a-4e37-cac8-1b085fbe4160"
      },
      "source": [
        "df.head()"
      ],
      "execution_count": 153,
      "outputs": [
        {
          "output_type": "execute_result",
          "data": {
            "text/html": [
              "<div>\n",
              "<style scoped>\n",
              "    .dataframe tbody tr th:only-of-type {\n",
              "        vertical-align: middle;\n",
              "    }\n",
              "\n",
              "    .dataframe tbody tr th {\n",
              "        vertical-align: top;\n",
              "    }\n",
              "\n",
              "    .dataframe thead th {\n",
              "        text-align: right;\n",
              "    }\n",
              "</style>\n",
              "<table border=\"1\" class=\"dataframe\">\n",
              "  <thead>\n",
              "    <tr style=\"text-align: right;\">\n",
              "      <th></th>\n",
              "      <th>ID</th>\n",
              "      <th>age</th>\n",
              "      <th>gender</th>\n",
              "      <th>native-country</th>\n",
              "      <th>race</th>\n",
              "      <th>marital-status</th>\n",
              "      <th>workclass</th>\n",
              "      <th>occupation</th>\n",
              "      <th>income</th>\n",
              "      <th>People_Family</th>\n",
              "      <th>education</th>\n",
              "      <th>GlycoHemoglobin</th>\n",
              "      <th>ArmCircum</th>\n",
              "      <th>SaggitalAbdominal</th>\n",
              "      <th>GripStrength</th>\n",
              "      <th>Taking_Insulin</th>\n",
              "      <th>Taking_Oral_Agents</th>\n",
              "      <th>Eyes_Affected</th>\n",
              "      <th>Recent_BP</th>\n",
              "      <th>Diabetes</th>\n",
              "    </tr>\n",
              "  </thead>\n",
              "  <tbody>\n",
              "    <tr>\n",
              "      <th>0</th>\n",
              "      <td>73557</td>\n",
              "      <td>[17, 36]</td>\n",
              "      <td>Male</td>\n",
              "      <td>United-States</td>\n",
              "      <td>Black</td>\n",
              "      <td>Never-married</td>\n",
              "      <td>Private</td>\n",
              "      <td>Machine-op-inspct</td>\n",
              "      <td>&lt;=50K</td>\n",
              "      <td>[1, 7]</td>\n",
              "      <td>11th</td>\n",
              "      <td>*</td>\n",
              "      <td>35.3</td>\n",
              "      <td>[19.9, 21.0]</td>\n",
              "      <td>55.2</td>\n",
              "      <td>1</td>\n",
              "      <td>1</td>\n",
              "      <td>1</td>\n",
              "      <td>[88.0, 135.0]</td>\n",
              "      <td>2</td>\n",
              "    </tr>\n",
              "    <tr>\n",
              "      <th>1</th>\n",
              "      <td>73558</td>\n",
              "      <td>[37, 56]</td>\n",
              "      <td>Male</td>\n",
              "      <td>United-States</td>\n",
              "      <td>White</td>\n",
              "      <td>Married-civ-spouse</td>\n",
              "      <td>Private</td>\n",
              "      <td>Farming-fishing</td>\n",
              "      <td>&lt;=50K</td>\n",
              "      <td>[1, 7]</td>\n",
              "      <td>HS-grad</td>\n",
              "      <td>[6.9, 10.0]</td>\n",
              "      <td>34.7</td>\n",
              "      <td>[23.5, 24.6]</td>\n",
              "      <td>61.5</td>\n",
              "      <td>1</td>\n",
              "      <td>1</td>\n",
              "      <td>1</td>\n",
              "      <td>[88.0, 135.0]</td>\n",
              "      <td>2</td>\n",
              "    </tr>\n",
              "    <tr>\n",
              "      <th>2</th>\n",
              "      <td>73559</td>\n",
              "      <td>[17, 36]</td>\n",
              "      <td>Male</td>\n",
              "      <td>United-States</td>\n",
              "      <td>White</td>\n",
              "      <td>Married-civ-spouse</td>\n",
              "      <td>Local-gov</td>\n",
              "      <td>Protective-serv</td>\n",
              "      <td>&gt;50K</td>\n",
              "      <td>[1, 7]</td>\n",
              "      <td>Assoc-acdm</td>\n",
              "      <td>*</td>\n",
              "      <td>33.5</td>\n",
              "      <td>[24.7, 25.8]</td>\n",
              "      <td>91.0</td>\n",
              "      <td>1</td>\n",
              "      <td>1</td>\n",
              "      <td>1</td>\n",
              "      <td>[136.0, 7777.0]</td>\n",
              "      <td>2</td>\n",
              "    </tr>\n",
              "    <tr>\n",
              "      <th>3</th>\n",
              "      <td>73560</td>\n",
              "      <td>[37, 56]</td>\n",
              "      <td>Male</td>\n",
              "      <td>United-States</td>\n",
              "      <td>Black</td>\n",
              "      <td>Married-civ-spouse</td>\n",
              "      <td>Private</td>\n",
              "      <td>Machine-op-inspct</td>\n",
              "      <td>&gt;50K</td>\n",
              "      <td>[1, 7]</td>\n",
              "      <td>Some-college</td>\n",
              "      <td>[3.5, 6.8]</td>\n",
              "      <td>21.0</td>\n",
              "      <td>[13.9, 15.0]</td>\n",
              "      <td>32.2</td>\n",
              "      <td>1</td>\n",
              "      <td>0</td>\n",
              "      <td>0</td>\n",
              "      <td>[136.0, 7777.0]</td>\n",
              "      <td>0</td>\n",
              "    </tr>\n",
              "    <tr>\n",
              "      <th>4</th>\n",
              "      <td>73561</td>\n",
              "      <td>[17, 36]</td>\n",
              "      <td>Female</td>\n",
              "      <td>United-States</td>\n",
              "      <td>White</td>\n",
              "      <td>Never-married</td>\n",
              "      <td>?</td>\n",
              "      <td>?</td>\n",
              "      <td>&lt;=50K</td>\n",
              "      <td>[1, 7]</td>\n",
              "      <td>Some-college</td>\n",
              "      <td>[3.5, 6.8]</td>\n",
              "      <td>25.2</td>\n",
              "      <td>[19.9, 21.0]</td>\n",
              "      <td>30.9</td>\n",
              "      <td>1</td>\n",
              "      <td>0</td>\n",
              "      <td>0</td>\n",
              "      <td>[136.0, 7777.0]</td>\n",
              "      <td>0</td>\n",
              "    </tr>\n",
              "  </tbody>\n",
              "</table>\n",
              "</div>"
            ],
            "text/plain": [
              "      ID       age  gender  ... Eyes_Affected        Recent_BP Diabetes\n",
              "0  73557  [17, 36]    Male  ...             1    [88.0, 135.0]        2\n",
              "1  73558  [37, 56]    Male  ...             1    [88.0, 135.0]        2\n",
              "2  73559  [17, 36]    Male  ...             1  [136.0, 7777.0]        2\n",
              "3  73560  [37, 56]    Male  ...             0  [136.0, 7777.0]        0\n",
              "4  73561  [17, 36]  Female  ...             0  [136.0, 7777.0]        0\n",
              "\n",
              "[5 rows x 20 columns]"
            ]
          },
          "metadata": {
            "tags": []
          },
          "execution_count": 153
        }
      ]
    },
    {
      "cell_type": "code",
      "metadata": {
        "id": "V9cUCrw0LdQg",
        "colab_type": "code",
        "colab": {}
      },
      "source": [
        ""
      ],
      "execution_count": 0,
      "outputs": []
    }
  ]
}